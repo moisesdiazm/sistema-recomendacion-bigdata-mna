{
  "cells": [
    {
      "cell_type": "markdown",
      "metadata": {
        "id": "l7lMlxoGzuPq"
      },
      "source": [
        "# Avance de proyecto 2: Sistema de recomendación\n",
        "## Maestría en inteligencia artificial aplicada: Análisis de grandes volúmenes de datos\n",
        "\n",
        "\n",
        "Equipo:\n",
        "- Abraham Cabanzo Jimenez A01794355\n",
        "- Ignacio Antonio Ruiz Guerra A00889972\n",
        "- Moisés Díaz Malagón A01208580\n"
      ]
    },
    {
      "cell_type": "markdown",
      "metadata": {
        "id": "URw2f8p3zuPr"
      },
      "source": [
        "Este proyecto complementa lo mostrado en el documento escrito de 2da entrega.\n",
        "A continuación se muestra el uso del dataset MovieLens 1M debido a que como ya se mencionó, para realizar filtro colaborativo necesitamos datos de usuario y ratings, los cuales no contabamos en la base de datos de imdb.\n",
        "\n",
        "En este documento repetimos la exploración básica pero ahora para familiarizarnos con este set de datos, e implementamos un algoritmo de recomendación complejo utilizando redes neuronales, éste será de tipo filtro colaborativo. Se presentan 3 métricas con las que se trabajará para evaluarlo.\n",
        "\n",
        "Se implementa también un algoritmo básico utilizando KNeighbors para un sistema de recomendación basado en contenido.\n",
        "\n",
        "Finalmente se implementa una función que permite utilizar un ensamble de sistemas de recomendación de acuerdo con requerimientos similares a la vida real tal como un arranque en frio.\n"
      ]
    },
    {
      "cell_type": "markdown",
      "metadata": {
        "id": "YvmQBHh2zuPr"
      },
      "source": [
        "#### 1. Exploración de base de datos"
      ]
    },
    {
      "cell_type": "code",
      "execution_count": 1,
      "metadata": {
        "id": "EKP_T49ZzuPr"
      },
      "outputs": [],
      "source": [
        "import numpy as np\n",
        "import pandas as pd\n",
        "import sklearn\n",
        "import matplotlib.pyplot as plt\n",
        "import seaborn as sns\n",
        "import scipy\n"
      ]
    },
    {
      "cell_type": "code",
      "execution_count": 2,
      "metadata": {
        "id": "kAMl5EP0zuPs",
        "outputId": "6b02ab85-e1c3-4a4c-db14-ef36ac5114b7"
      },
      "outputs": [
        {
          "name": "stderr",
          "output_type": "stream",
          "text": [
            "/var/folders/t3/2fb0wqk504s68c7h3cwcl1fc0000gn/T/ipykernel_67819/3158531673.py:1: ParserWarning: Falling back to the 'python' engine because the 'c' engine does not support regex separators (separators > 1 char and different from '\\s+' are interpreted as regex); you can avoid this warning by specifying engine='python'.\n",
            "  ratings = pd.read_csv(\"ratings.dat\", sep='::', names=['user_id', 'movie_id', 'rating', 'timestamp'])\n"
          ]
        }
      ],
      "source": [
        "ratings = pd.read_csv(\"ratings.dat\", sep='::', names=['user_id', 'movie_id', 'rating', 'timestamp'])"
      ]
    },
    {
      "cell_type": "code",
      "execution_count": 3,
      "metadata": {
        "id": "ftiEWQwUzuPs",
        "outputId": "2f5b6ea5-80c8-4240-d749-a7e38694bb21"
      },
      "outputs": [
        {
          "data": {
            "text/html": [
              "<div>\n",
              "<style scoped>\n",
              "    .dataframe tbody tr th:only-of-type {\n",
              "        vertical-align: middle;\n",
              "    }\n",
              "\n",
              "    .dataframe tbody tr th {\n",
              "        vertical-align: top;\n",
              "    }\n",
              "\n",
              "    .dataframe thead th {\n",
              "        text-align: right;\n",
              "    }\n",
              "</style>\n",
              "<table border=\"1\" class=\"dataframe\">\n",
              "  <thead>\n",
              "    <tr style=\"text-align: right;\">\n",
              "      <th></th>\n",
              "      <th>user_id</th>\n",
              "      <th>movie_id</th>\n",
              "      <th>rating</th>\n",
              "      <th>timestamp</th>\n",
              "    </tr>\n",
              "  </thead>\n",
              "  <tbody>\n",
              "    <tr>\n",
              "      <th>0</th>\n",
              "      <td>1</td>\n",
              "      <td>1193</td>\n",
              "      <td>5</td>\n",
              "      <td>978300760</td>\n",
              "    </tr>\n",
              "    <tr>\n",
              "      <th>1</th>\n",
              "      <td>1</td>\n",
              "      <td>661</td>\n",
              "      <td>3</td>\n",
              "      <td>978302109</td>\n",
              "    </tr>\n",
              "    <tr>\n",
              "      <th>2</th>\n",
              "      <td>1</td>\n",
              "      <td>914</td>\n",
              "      <td>3</td>\n",
              "      <td>978301968</td>\n",
              "    </tr>\n",
              "    <tr>\n",
              "      <th>3</th>\n",
              "      <td>1</td>\n",
              "      <td>3408</td>\n",
              "      <td>4</td>\n",
              "      <td>978300275</td>\n",
              "    </tr>\n",
              "    <tr>\n",
              "      <th>4</th>\n",
              "      <td>1</td>\n",
              "      <td>2355</td>\n",
              "      <td>5</td>\n",
              "      <td>978824291</td>\n",
              "    </tr>\n",
              "  </tbody>\n",
              "</table>\n",
              "</div>"
            ],
            "text/plain": [
              "   user_id  movie_id  rating  timestamp\n",
              "0        1      1193       5  978300760\n",
              "1        1       661       3  978302109\n",
              "2        1       914       3  978301968\n",
              "3        1      3408       4  978300275\n",
              "4        1      2355       5  978824291"
            ]
          },
          "execution_count": 3,
          "metadata": {},
          "output_type": "execute_result"
        }
      ],
      "source": [
        "ratings.head()"
      ]
    },
    {
      "cell_type": "code",
      "execution_count": 4,
      "metadata": {
        "id": "U5R74d6QzuPs",
        "outputId": "c301633c-14b2-4109-bb02-18e38529ccc2"
      },
      "outputs": [
        {
          "name": "stderr",
          "output_type": "stream",
          "text": [
            "/var/folders/t3/2fb0wqk504s68c7h3cwcl1fc0000gn/T/ipykernel_67819/3223006083.py:1: ParserWarning: Falling back to the 'python' engine because the 'c' engine does not support regex separators (separators > 1 char and different from '\\s+' are interpreted as regex); you can avoid this warning by specifying engine='python'.\n",
            "  movies = pd.read_csv(\"movies.dat\", sep='::', names=['movie_id', 'movie_title', 'genres'], encoding='latin-1')\n"
          ]
        }
      ],
      "source": [
        "movies = pd.read_csv(\"movies.dat\", sep='::', names=['movie_id', 'movie_title', 'genres'], encoding='latin-1')"
      ]
    },
    {
      "cell_type": "code",
      "execution_count": 5,
      "metadata": {
        "id": "lHuleGZ7zuPs",
        "outputId": "2c5b0ad9-9f1b-45fc-970a-2dcd89569059"
      },
      "outputs": [
        {
          "data": {
            "text/html": [
              "<div>\n",
              "<style scoped>\n",
              "    .dataframe tbody tr th:only-of-type {\n",
              "        vertical-align: middle;\n",
              "    }\n",
              "\n",
              "    .dataframe tbody tr th {\n",
              "        vertical-align: top;\n",
              "    }\n",
              "\n",
              "    .dataframe thead th {\n",
              "        text-align: right;\n",
              "    }\n",
              "</style>\n",
              "<table border=\"1\" class=\"dataframe\">\n",
              "  <thead>\n",
              "    <tr style=\"text-align: right;\">\n",
              "      <th></th>\n",
              "      <th>movie_id</th>\n",
              "      <th>movie_title</th>\n",
              "      <th>genres</th>\n",
              "    </tr>\n",
              "  </thead>\n",
              "  <tbody>\n",
              "    <tr>\n",
              "      <th>0</th>\n",
              "      <td>1</td>\n",
              "      <td>Toy Story (1995)</td>\n",
              "      <td>Animation|Children's|Comedy</td>\n",
              "    </tr>\n",
              "    <tr>\n",
              "      <th>1</th>\n",
              "      <td>2</td>\n",
              "      <td>Jumanji (1995)</td>\n",
              "      <td>Adventure|Children's|Fantasy</td>\n",
              "    </tr>\n",
              "    <tr>\n",
              "      <th>2</th>\n",
              "      <td>3</td>\n",
              "      <td>Grumpier Old Men (1995)</td>\n",
              "      <td>Comedy|Romance</td>\n",
              "    </tr>\n",
              "    <tr>\n",
              "      <th>3</th>\n",
              "      <td>4</td>\n",
              "      <td>Waiting to Exhale (1995)</td>\n",
              "      <td>Comedy|Drama</td>\n",
              "    </tr>\n",
              "    <tr>\n",
              "      <th>4</th>\n",
              "      <td>5</td>\n",
              "      <td>Father of the Bride Part II (1995)</td>\n",
              "      <td>Comedy</td>\n",
              "    </tr>\n",
              "  </tbody>\n",
              "</table>\n",
              "</div>"
            ],
            "text/plain": [
              "   movie_id                         movie_title                        genres\n",
              "0         1                    Toy Story (1995)   Animation|Children's|Comedy\n",
              "1         2                      Jumanji (1995)  Adventure|Children's|Fantasy\n",
              "2         3             Grumpier Old Men (1995)                Comedy|Romance\n",
              "3         4            Waiting to Exhale (1995)                  Comedy|Drama\n",
              "4         5  Father of the Bride Part II (1995)                        Comedy"
            ]
          },
          "execution_count": 5,
          "metadata": {},
          "output_type": "execute_result"
        }
      ],
      "source": [
        "movies.head()"
      ]
    },
    {
      "cell_type": "code",
      "execution_count": 6,
      "metadata": {
        "id": "1vs6Aw3ZzuPs",
        "outputId": "6846838a-9d6d-47ea-cb35-5234d1af1d57"
      },
      "outputs": [
        {
          "data": {
            "text/plain": [
              "(1000209, 3706, 6040)"
            ]
          },
          "execution_count": 6,
          "metadata": {},
          "output_type": "execute_result"
        }
      ],
      "source": [
        "ratings_length = len(ratings)\n",
        "unique_movies = ratings['movie_id'].nunique()\n",
        "unique_users = ratings['user_id'].nunique()\n",
        "\n",
        "\n",
        "ratings_length, unique_movies, unique_users"
      ]
    },
    {
      "cell_type": "code",
      "execution_count": 7,
      "metadata": {
        "id": "Mnb0sW7jzuPs",
        "outputId": "b2eb471a-f50b-4345-83ee-720bc75fee1f"
      },
      "outputs": [
        {
          "data": {
            "text/html": [
              "<div>\n",
              "<style scoped>\n",
              "    .dataframe tbody tr th:only-of-type {\n",
              "        vertical-align: middle;\n",
              "    }\n",
              "\n",
              "    .dataframe tbody tr th {\n",
              "        vertical-align: top;\n",
              "    }\n",
              "\n",
              "    .dataframe thead th {\n",
              "        text-align: right;\n",
              "    }\n",
              "</style>\n",
              "<table border=\"1\" class=\"dataframe\">\n",
              "  <thead>\n",
              "    <tr style=\"text-align: right;\">\n",
              "      <th></th>\n",
              "      <th>user_id</th>\n",
              "      <th>ratings</th>\n",
              "    </tr>\n",
              "  </thead>\n",
              "  <tbody>\n",
              "    <tr>\n",
              "      <th>0</th>\n",
              "      <td>1</td>\n",
              "      <td>53</td>\n",
              "    </tr>\n",
              "    <tr>\n",
              "      <th>1</th>\n",
              "      <td>2</td>\n",
              "      <td>129</td>\n",
              "    </tr>\n",
              "    <tr>\n",
              "      <th>2</th>\n",
              "      <td>3</td>\n",
              "      <td>51</td>\n",
              "    </tr>\n",
              "    <tr>\n",
              "      <th>3</th>\n",
              "      <td>4</td>\n",
              "      <td>21</td>\n",
              "    </tr>\n",
              "    <tr>\n",
              "      <th>4</th>\n",
              "      <td>5</td>\n",
              "      <td>198</td>\n",
              "    </tr>\n",
              "  </tbody>\n",
              "</table>\n",
              "</div>"
            ],
            "text/plain": [
              "   user_id  ratings\n",
              "0        1       53\n",
              "1        2      129\n",
              "2        3       51\n",
              "3        4       21\n",
              "4        5      198"
            ]
          },
          "execution_count": 7,
          "metadata": {},
          "output_type": "execute_result"
        }
      ],
      "source": [
        "# ratings por userId\n",
        "user_ratings_count = ratings[['user_id', 'movie_id']].groupby('user_id').count().reset_index()\n",
        "user_ratings_count.columns = ['user_id', 'ratings']\n",
        "user_ratings_count.head()"
      ]
    },
    {
      "cell_type": "code",
      "execution_count": 8,
      "metadata": {
        "id": "aSnqkY-FzuPt",
        "outputId": "e83b8c5a-6a26-4737-9a38-d7993f71900b"
      },
      "outputs": [
        {
          "data": {
            "text/plain": [
              "165.6"
            ]
          },
          "execution_count": 8,
          "metadata": {},
          "output_type": "execute_result"
        }
      ],
      "source": [
        "# promedio de ratings por usuario\n",
        "round(user_ratings_count['ratings'].mean(),1)"
      ]
    },
    {
      "cell_type": "code",
      "execution_count": 9,
      "metadata": {
        "id": "NP4F_lsszuPt",
        "outputId": "1e73ca55-dbbb-4867-ae82-61c1c1f7e3b2"
      },
      "outputs": [
        {
          "data": {
            "text/plain": [
              "Text(0, 0.5, 'Cantidad de Ratings')"
            ]
          },
          "execution_count": 9,
          "metadata": {},
          "output_type": "execute_result"
        },
        {
          "data": {
            "image/png": "[encoded data removed]",
            "text/plain": [
              "<Figure size 640x480 with 1 Axes>"
            ]
          },
          "metadata": {},
          "output_type": "display_data"
        }
      ],
      "source": [
        "# distribución de ratings\n",
        "plt.hist(ratings['rating'], bins=10, color='blue', alpha=0.7)\n",
        "plt.title('Distribución de Ratings')\n",
        "plt.xlabel('Rating')\n",
        "plt.ylabel('Cantidad de Ratings')"
      ]
    },
    {
      "cell_type": "code",
      "execution_count": 10,
      "metadata": {
        "id": "rZl4N4fyzuPt",
        "outputId": "dbc0ef4c-0adf-41a1-cf7e-a47d8b8a8441"
      },
      "outputs": [
        {
          "data": {
            "text/plain": [
              "Text(0.5, 1.0, 'Cantidad de películas calificadas por usuario')"
            ]
          },
          "execution_count": 10,
          "metadata": {},
          "output_type": "execute_result"
        },
        {
          "data": {
            "image/png": "[encoded data removed]",
            "text/plain": [
              "<Figure size 640x480 with 1 Axes>"
            ]
          },
          "metadata": {},
          "output_type": "display_data"
        }
      ],
      "source": [
        "\n",
        "plot = sns.kdeplot(user_ratings_count['ratings'], color='blue', fill=True)\n",
        "plot.axvline(user_ratings_count['ratings'].mean(), color='red', linestyle='--')\n",
        "plot.set_xlabel(\"Cantidad de ratings por usuario\")\n",
        "plot.set_ylabel(\"Densidad\")\n",
        "plot.set_title(\"Cantidad de películas calificadas por usuario\")"
      ]
    },
    {
      "cell_type": "code",
      "execution_count": 11,
      "metadata": {
        "id": "dYsG0W0nzuPt",
        "outputId": "14b25095-e8b0-4149-fd9a-507ab47e4229"
      },
      "outputs": [
        {
          "name": "stdout",
          "output_type": "stream",
          "text": [
            "125    Silence of the Palace, The (Saimt el Qusur) (1...\n",
            "Name: movie_title, dtype: object\n",
            "777    Gate of Heavenly Peace, The (1995)\n",
            "Name: movie_title, dtype: object\n"
          ]
        }
      ],
      "source": [
        "min_rating_movie_idx = ratings.groupby('movie_id')['rating'].mean().idxmin()\n",
        "print(movies[movies['movie_id'] == min_rating_movie_idx]['movie_title'])\n",
        "\n",
        "max_rating_movie_idx = ratings.groupby('movie_id')['rating'].mean().idxmax()\n",
        "print(movies[movies['movie_id'] == max_rating_movie_idx]['movie_title'])"
      ]
    },
    {
      "cell_type": "code",
      "execution_count": 12,
      "metadata": {
        "id": "aN5gQC0_zuPt",
        "outputId": "450761b7-0660-461b-9971-ac39cbc645e7"
      },
      "outputs": [
        {
          "data": {
            "text/html": [
              "<div>\n",
              "<style scoped>\n",
              "    .dataframe tbody tr th:only-of-type {\n",
              "        vertical-align: middle;\n",
              "    }\n",
              "\n",
              "    .dataframe tbody tr th {\n",
              "        vertical-align: top;\n",
              "    }\n",
              "\n",
              "    .dataframe thead th {\n",
              "        text-align: right;\n",
              "    }\n",
              "</style>\n",
              "<table border=\"1\" class=\"dataframe\">\n",
              "  <thead>\n",
              "    <tr style=\"text-align: right;\">\n",
              "      <th></th>\n",
              "      <th>user_id</th>\n",
              "      <th>movie_id</th>\n",
              "      <th>rating</th>\n",
              "      <th>timestamp</th>\n",
              "    </tr>\n",
              "  </thead>\n",
              "  <tbody>\n",
              "    <tr>\n",
              "      <th>19836</th>\n",
              "      <td>149</td>\n",
              "      <td>787</td>\n",
              "      <td>5</td>\n",
              "      <td>977325719</td>\n",
              "    </tr>\n",
              "    <tr>\n",
              "      <th>458840</th>\n",
              "      <td>2825</td>\n",
              "      <td>787</td>\n",
              "      <td>5</td>\n",
              "      <td>972610193</td>\n",
              "    </tr>\n",
              "    <tr>\n",
              "      <th>465525</th>\n",
              "      <td>2872</td>\n",
              "      <td>787</td>\n",
              "      <td>5</td>\n",
              "      <td>972423586</td>\n",
              "    </tr>\n",
              "  </tbody>\n",
              "</table>\n",
              "</div>"
            ],
            "text/plain": [
              "        user_id  movie_id  rating  timestamp\n",
              "19836       149       787       5  977325719\n",
              "458840     2825       787       5  972610193\n",
              "465525     2872       787       5  972423586"
            ]
          },
          "execution_count": 12,
          "metadata": {},
          "output_type": "execute_result"
        }
      ],
      "source": [
        "ratings[ratings['movie_id']==max_rating_movie_idx]"
      ]
    },
    {
      "cell_type": "code",
      "execution_count": 13,
      "metadata": {
        "id": "MeOOayRnzuPt"
      },
      "outputs": [],
      "source": [
        "# debido a pocas muestras, utilizaremos promedio bayesiano\n",
        "\n",
        "movies_count_and_mean = ratings.groupby('movie_id')['rating'].agg(['count', 'mean'])\n",
        "C = movies_count_and_mean['count'].mean() # C: promedio de la cantidad de ratings de todas las peliculas\n",
        "m = movies_count_and_mean['mean'].mean() # m: promedio de la media de calificaciones de todas las peliculas\n",
        "\n",
        "\n",
        "def bayesian_avg(ratings):\n",
        "    # esto se ejecutara para cada pelicula\n",
        "    N = ratings.count() # cantidad de ratings de una pelicula\n",
        "    sum_reviews = ratings.sum() # suma de los ratings de una pelicula\n",
        "    return (C*m + sum_reviews) / (C + N)\n",
        "\n",
        "ratings_bayesian_avg = ratings.groupby('movie_id')['rating'].agg(bayesian_avg).reset_index()\n",
        "ratings_bayesian_avg.columns = ['movie_id', 'bayesian_avg_rating']\n",
        "movie_stats = movies_count_and_mean.merge(ratings_bayesian_avg, on='movie_id')"
      ]
    },
    {
      "cell_type": "code",
      "execution_count": 14,
      "metadata": {
        "id": "yuTobWpezuPt",
        "outputId": "b6fd8484-013b-432c-fe9c-cad573893d39"
      },
      "outputs": [
        {
          "data": {
            "text/html": [
              "<div>\n",
              "<style scoped>\n",
              "    .dataframe tbody tr th:only-of-type {\n",
              "        vertical-align: middle;\n",
              "    }\n",
              "\n",
              "    .dataframe tbody tr th {\n",
              "        vertical-align: top;\n",
              "    }\n",
              "\n",
              "    .dataframe thead th {\n",
              "        text-align: right;\n",
              "    }\n",
              "</style>\n",
              "<table border=\"1\" class=\"dataframe\">\n",
              "  <thead>\n",
              "    <tr style=\"text-align: right;\">\n",
              "      <th></th>\n",
              "      <th>bayesian_avg_rating</th>\n",
              "      <th>movie_title</th>\n",
              "    </tr>\n",
              "  </thead>\n",
              "  <tbody>\n",
              "    <tr>\n",
              "      <th>309</th>\n",
              "      <td>4.412347</td>\n",
              "      <td>Shawshank Redemption, The (1994)</td>\n",
              "    </tr>\n",
              "    <tr>\n",
              "      <th>802</th>\n",
              "      <td>4.385731</td>\n",
              "      <td>Godfather, The (1972)</td>\n",
              "    </tr>\n",
              "    <tr>\n",
              "      <th>513</th>\n",
              "      <td>4.377089</td>\n",
              "      <td>Schindler's List (1993)</td>\n",
              "    </tr>\n",
              "    <tr>\n",
              "      <th>1108</th>\n",
              "      <td>4.357624</td>\n",
              "      <td>Raiders of the Lost Ark (1981)</td>\n",
              "    </tr>\n",
              "    <tr>\n",
              "      <th>253</th>\n",
              "      <td>4.353151</td>\n",
              "      <td>Star Wars: Episode IV - A New Hope (1977)</td>\n",
              "    </tr>\n",
              "  </tbody>\n",
              "</table>\n",
              "</div>"
            ],
            "text/plain": [
              "      bayesian_avg_rating                                movie_title\n",
              "309              4.412347           Shawshank Redemption, The (1994)\n",
              "802              4.385731                      Godfather, The (1972)\n",
              "513              4.377089                    Schindler's List (1993)\n",
              "1108             4.357624             Raiders of the Lost Ark (1981)\n",
              "253              4.353151  Star Wars: Episode IV - A New Hope (1977)"
            ]
          },
          "execution_count": 14,
          "metadata": {},
          "output_type": "execute_result"
        }
      ],
      "source": [
        "# observamos las mejores peliculas rankeadas usando promedio bayesiano\n",
        "pd.merge(movie_stats, movies, on='movie_id')[['bayesian_avg_rating', 'movie_title']].sort_values('bayesian_avg_rating', ascending=False).head()"
      ]
    },
    {
      "cell_type": "code",
      "execution_count": 15,
      "metadata": {
        "id": "FB6aQpvmzuPt",
        "outputId": "97f3140c-8005-4c23-c01e-6397af3ae213"
      },
      "outputs": [
        {
          "data": {
            "text/html": [
              "<div>\n",
              "<style scoped>\n",
              "    .dataframe tbody tr th:only-of-type {\n",
              "        vertical-align: middle;\n",
              "    }\n",
              "\n",
              "    .dataframe tbody tr th {\n",
              "        vertical-align: top;\n",
              "    }\n",
              "\n",
              "    .dataframe thead th {\n",
              "        text-align: right;\n",
              "    }\n",
              "</style>\n",
              "<table border=\"1\" class=\"dataframe\">\n",
              "  <thead>\n",
              "    <tr style=\"text-align: right;\">\n",
              "      <th></th>\n",
              "      <th>bayesian_avg_rating</th>\n",
              "      <th>movie_title</th>\n",
              "    </tr>\n",
              "  </thead>\n",
              "  <tbody>\n",
              "    <tr>\n",
              "      <th>3353</th>\n",
              "      <td>2.329085</td>\n",
              "      <td>Battlefield Earth (2000)</td>\n",
              "    </tr>\n",
              "    <tr>\n",
              "      <th>2496</th>\n",
              "      <td>2.407345</td>\n",
              "      <td>Wild Wild West (1999)</td>\n",
              "    </tr>\n",
              "    <tr>\n",
              "      <th>1432</th>\n",
              "      <td>2.451199</td>\n",
              "      <td>Speed 2: Cruise Control (1997)</td>\n",
              "    </tr>\n",
              "    <tr>\n",
              "      <th>532</th>\n",
              "      <td>2.468412</td>\n",
              "      <td>Super Mario Bros. (1993)</td>\n",
              "    </tr>\n",
              "    <tr>\n",
              "      <th>2441</th>\n",
              "      <td>2.494050</td>\n",
              "      <td>Superman IV: The Quest for Peace (1987)</td>\n",
              "    </tr>\n",
              "  </tbody>\n",
              "</table>\n",
              "</div>"
            ],
            "text/plain": [
              "      bayesian_avg_rating                              movie_title\n",
              "3353             2.329085                 Battlefield Earth (2000)\n",
              "2496             2.407345                    Wild Wild West (1999)\n",
              "1432             2.451199           Speed 2: Cruise Control (1997)\n",
              "532              2.468412                 Super Mario Bros. (1993)\n",
              "2441             2.494050  Superman IV: The Quest for Peace (1987)"
            ]
          },
          "execution_count": 15,
          "metadata": {},
          "output_type": "execute_result"
        }
      ],
      "source": [
        "# observamos las peores peliculas rankeadas usando promedio bayesiano\n",
        "pd.merge(movie_stats, movies, on='movie_id')[['bayesian_avg_rating', 'movie_title']].sort_values('bayesian_avg_rating', ascending=True).head()"
      ]
    },
    {
      "cell_type": "markdown",
      "metadata": {
        "id": "y_h26Z_rzuPt"
      },
      "source": [
        "# Filtro colaborativo básico\n",
        "\n",
        "Bajo la premisa de que a usuarios similares les interesan las mismas cosas.\n",
        "Es no-supervisado, aprende de los intereses de una población.\n",
        "El filtrado colaborativo no requiere información del usuario ni de las películas para recomendar."
      ]
    },
    {
      "cell_type": "code",
      "execution_count": 16,
      "metadata": {
        "id": "HMZ_jvULzuPu"
      },
      "outputs": [],
      "source": [
        "# matriz usuario-item, filas son usuarios, columnas son películas, contenido es la calificación bayesiana\n",
        "# es una matriz dispersa\n",
        "\n",
        "from scipy.sparse import csr_matrix\n",
        "\n",
        "def create_user_movie_matrix(df):\n",
        "    unique_users = df['user_id'].unique()\n",
        "    unique_movies = df['movie_id'].unique()\n",
        "\n",
        "    userid_to_idx = dict(zip(unique_users, list(range(len(unique_users)))))\n",
        "    movieid_to_idx = dict(zip(unique_movies, list(range(len(unique_movies)))))\n",
        "\n",
        "    # mapeos inversos\n",
        "    idx_to_userid = {v:k for k,v in userid_to_idx.items()}\n",
        "    idx_to_movieid = {v:k for k,v in movieid_to_idx.items()}\n",
        "\n",
        "    users_idx = [userid_to_idx[id] for id in df['user_id']]\n",
        "    movies_idx = [movieid_to_idx[id] for id in df['movie_id']]\n",
        "\n",
        "    user_movie_matrix = csr_matrix((df['rating'], (users_idx, movies_idx)), shape=(len(unique_users), len(unique_movies)))\n",
        "\n",
        "    return user_movie_matrix, userid_to_idx, movieid_to_idx, idx_to_userid, idx_to_movieid\n"
      ]
    },
    {
      "cell_type": "code",
      "execution_count": 17,
      "metadata": {
        "id": "UcDr707HzuPu"
      },
      "outputs": [],
      "source": [
        "user_movie_matrix, userid_to_idx, movieid_to_idx, idx_to_userid, idx_to_movieid = create_user_movie_matrix(ratings)"
      ]
    },
    {
      "cell_type": "code",
      "execution_count": 18,
      "metadata": {
        "id": "V4DEL_xKzuPu"
      },
      "outputs": [],
      "source": [
        "dispersion = user_movie_matrix.count_nonzero()/(user_movie_matrix.shape[0]*user_movie_matrix.shape[1])*100\n",
        "assert dispersion > 0.005, \"Matriz dispersa no apta para recomendación\""
      ]
    },
    {
      "cell_type": "code",
      "execution_count": 19,
      "metadata": {
        "id": "YCBBwDJfzuPu"
      },
      "outputs": [],
      "source": [
        "from scipy.sparse import save_npz\n",
        "save_npz('user_movie_matrix.npz', user_movie_matrix)"
      ]
    },
    {
      "cell_type": "code",
      "execution_count": 20,
      "metadata": {
        "id": "-KOPMRs0zuPu"
      },
      "outputs": [],
      "source": [
        "# k vecinos de una pelicula determinada\n",
        "# metrica:\n",
        "\n",
        "from sklearn.neighbors import NearestNeighbors\n",
        "\n",
        "def collaborative_filtering(movie_id, user_movie_matrix, k=10, metric='cosine', show_distance=False):\n",
        "    '''\n",
        "    Encuentra los k-vecinos más cercanos a una película dada.\n",
        "\n",
        "    Args:\n",
        "        movie_id: id de la película\n",
        "        user_movie_matrix: matriz usuario-película\n",
        "        k: cantidad de vecinos a buscar\n",
        "        metric: métrica de distancia\n",
        "        show_distance: si se muestra la distancia\n",
        "    Returns:\n",
        "        lista de k-vecinos más cercanos (ids de películas)\n",
        "\n",
        "    '''\n",
        "    model = NearestNeighbors(n_neighbors=k, algorithm='brute', metric=metric)\n",
        "    model.fit(user_movie_matrix.T)\n",
        "    distances, indices = model.kneighbors(user_movie_matrix.T[movieid_to_idx[movie_id]], n_neighbors=k+1)\n",
        "    distances = distances.squeeze()\n",
        "    indices = indices.squeeze()\n",
        "    movie_indices = [idx_to_movieid[idx] for idx in indices]\n",
        "    return list(zip(movie_indices, distances))\n",
        "\n"
      ]
    },
    {
      "cell_type": "code",
      "execution_count": 21,
      "metadata": {
        "id": "k5-ymz5EzuPu",
        "outputId": "d9fc8142-af2e-4da0-f263-669e58e8efa7"
      },
      "outputs": [
        {
          "name": "stdout",
          "output_type": "stream",
          "text": [
            "1\n",
            "Pelicula:  Toy Story (1995)\n",
            "También te podría gustar:\n",
            "0: Toy Story 2 (1999)\n",
            "1: Groundhog Day (1993)\n",
            "2: Aladdin (1992)\n",
            "3: Bug's Life, A (1998)\n",
            "4: Back to the Future (1985)\n",
            "5: Babe (1995)\n",
            "6: Star Wars: Episode V - The Empire Strikes Back (1980)\n",
            "7: Men in Black (1997)\n",
            "8: Forrest Gump (1994)\n",
            "9: Matrix, The (1999)\n"
          ]
        }
      ],
      "source": [
        "movieid_to_title = dict(zip(movies['movie_id'], movies['movie_title']))\n",
        "\n",
        "movie_id = 1\n",
        "title = movieid_to_title[movie_id]\n",
        "print(movie_id)\n",
        "similar_idx = collaborative_filtering(movie_id, user_movie_matrix, k=10, metric='cosine')\n",
        "\n",
        "print(\"Pelicula: \", title)\n",
        "print(\"También te podría gustar:\")\n",
        "for i, (movie_id, _) in enumerate(similar_idx[1:]):\n",
        "    print(f\"{i}: {movieid_to_title[movie_id]}\")\n",
        "\n"
      ]
    },
    {
      "cell_type": "markdown",
      "metadata": {
        "id": "NBDLen9lzuPu"
      },
      "source": [
        "Los resultados obtenidos muestran resultados similares de acuerdo con los ratings user-movie, los generos no son tomados en cuenta"
      ]
    },
    {
      "cell_type": "markdown",
      "metadata": {
        "id": "2DoZMcpbzuPu"
      },
      "source": [
        "# Filtro basado en contenido\n",
        "Soporta cold start y hace recomendaciones"
      ]
    },
    {
      "cell_type": "markdown",
      "metadata": {
        "id": "LMio_DsXzuPu"
      },
      "source": [
        "En filtro colaborativo hacemos recomendación user-item, bajo la premisa de que a usuarios siilares les interesan las mismas cosas, sin importar lo que sean, es decir no tomamos en cuenta los atributos de las películas. Esta primera parte es un algoritmo no supervisado que aprende de los intereses de la población completa de las calificaciones de usuarios en todas las películas. Para este primer filtro se necesita que los usuarios hayan interactuado con películas anteriormente.\n",
        "\n",
        "Cuando un usuario no haya interactuado con al menos 5 películas consideraremos que no se tiene información suficiente del usuario para utilizar el filtro colaborativo. Este es el caso del arranque en frio, y para esto utilizaremos un filtro basado en contenido como se propuso en la primera entrega del proyecto.  De igual forma cuando una película no ha sido calificada anteriormente el filtro colaborativo no sería apropiado. Este segundo filtro realiza recomendaciones item-item tomando en cuenta características del contenido\n",
        "\n",
        "Como en la primera entrega utilizaremos solo información del contenido de las películas.\n",
        "\n",
        "Por otro lado es necesario mencionar que el sistema de filtrado colaborativo tiene la ventaja que aprende de los embeddings generados por las interacciones del usuario directamente, no es necesario hacer el cómputo ni el preprocesamiento tan detallado."
      ]
    },
    {
      "cell_type": "code",
      "execution_count": 22,
      "metadata": {
        "id": "yCbZilhhzuPu"
      },
      "outputs": [],
      "source": [
        "# debido a que los géneros se encuentran separados por el caracter \"|\",\n",
        "# el primer paso será convertirlos en listas\n",
        "\n",
        "movies['genres'] = movies['genres'].apply(lambda x: x.split(\"|\"))"
      ]
    },
    {
      "cell_type": "code",
      "execution_count": 23,
      "metadata": {
        "id": "_XXDUpi5zuPu",
        "outputId": "f38f78db-45d8-4337-ff94-5bca463f58d8"
      },
      "outputs": [
        {
          "name": "stdout",
          "output_type": "stream",
          "text": [
            "Existen 18 generos.\n"
          ]
        },
        {
          "data": {
            "text/plain": [
              "Counter({'Drama': 1603,\n",
              "         'Comedy': 1200,\n",
              "         'Action': 503,\n",
              "         'Thriller': 492,\n",
              "         'Romance': 471,\n",
              "         'Horror': 343,\n",
              "         'Adventure': 283,\n",
              "         'Sci-Fi': 276,\n",
              "         \"Children's\": 251,\n",
              "         'Crime': 211,\n",
              "         'War': 143,\n",
              "         'Documentary': 127,\n",
              "         'Musical': 114,\n",
              "         'Mystery': 106,\n",
              "         'Animation': 105,\n",
              "         'Fantasy': 68,\n",
              "         'Western': 68,\n",
              "         'Film-Noir': 44})"
            ]
          },
          "execution_count": 23,
          "metadata": {},
          "output_type": "execute_result"
        }
      ],
      "source": [
        "# podemos observar cuántos géneros tenemos y cuántas películas en cada uno\n",
        "from collections import Counter\n",
        "\n",
        "genre_counter = Counter(g for genres in movies['genres'] for g in genres)\n",
        "print(f\"Existen {len(genre_counter)} generos.\")\n",
        "genre_counter"
      ]
    },
    {
      "cell_type": "code",
      "execution_count": 24,
      "metadata": {
        "id": "cr8ZOLzpzuPu"
      },
      "outputs": [],
      "source": [
        "# eliminamos las películas que no tienen género\n",
        "movies = movies[movies['genres']!='(no genres listed)']\n",
        "del genre_counter['(no genres listed)']"
      ]
    },
    {
      "cell_type": "code",
      "execution_count": 25,
      "metadata": {
        "id": "j-HtLsBlzuPu",
        "outputId": "2212f2e6-d5f0-4bba-ec4e-aceede3fa945"
      },
      "outputs": [
        {
          "data": {
            "image/png": "[encoded data removed]",
            "text/plain": [
              "<Figure size 640x480 with 1 Axes>"
            ]
          },
          "metadata": {},
          "output_type": "display_data"
        }
      ],
      "source": [
        "elements = dict(sorted(genre_counter.items(), key=lambda x: x[1], reverse=True))\n",
        "\n",
        "sns.barplot(x=elements.keys(), y=elements.values())\n",
        "plt.xticks(rotation=90)\n",
        "plt.show()"
      ]
    },
    {
      "cell_type": "code",
      "execution_count": 26,
      "metadata": {
        "id": "DoCkBpx9zuPu"
      },
      "outputs": [],
      "source": [
        "# Hacemos el preprocesamiento del título para separa el título del año, creamos las columnas clean_title y year respectivamente\n",
        "import re\n",
        "movies['clean_title'] = movies['movie_title'].apply(lambda x: re.sub(r'\\s*\\([^)]*\\)', '', x))\n",
        "\n",
        "def extract_year(title):\n",
        "    year = re.search(r'\\((\\d{4})\\)', title)\n",
        "    return int(year.group(1)) if year else None\n",
        "\n",
        "movies['year'] = movies['movie_title'].apply(extract_year)"
      ]
    },
    {
      "cell_type": "code",
      "execution_count": 27,
      "metadata": {
        "id": "HosHNGw4zuPu",
        "outputId": "cf6bebf6-b992-42a4-a8f2-1f481a8574fe"
      },
      "outputs": [
        {
          "data": {
            "image/png": "[encoded data removed]",
            "text/plain": [
              "<Figure size 640x480 with 1 Axes>"
            ]
          },
          "metadata": {},
          "output_type": "display_data"
        }
      ],
      "source": [
        "# tal como se recomendó en clase se creará una columna con la década de cada película de tal forma que la podamos utilizar como categoría en el sistema de recomendación\n",
        "movies['decade'] = movies['year'].apply(lambda x: x - x%10)\n",
        "\n",
        "plt.figure()\n",
        "sns.barplot(movies['decade'].value_counts().sort_index()) # pending make bins\n",
        "plt.xticks(rotation=90)\n",
        "plt.show()"
      ]
    },
    {
      "cell_type": "code",
      "execution_count": 28,
      "metadata": {
        "id": "Sm3wbyzRzuPv"
      },
      "outputs": [],
      "source": [
        "# A continuación transformamos a one hot encoding los generos para generar un vector de 1s y 0s para cada película dependiendo si pertenece o no a un género en particular\n",
        "genres = list(genre_counter.keys())\n",
        "for gender in genres:\n",
        "    movies[gender] = movies['genres'].transform(lambda x: int(gender in x))"
      ]
    },
    {
      "cell_type": "code",
      "execution_count": 29,
      "metadata": {
        "id": "MXt0Z03tzuPv",
        "outputId": "7243ceac-663c-423d-cac8-bd5e2fe9b2bf"
      },
      "outputs": [
        {
          "data": {
            "text/html": [
              "<div>\n",
              "<style scoped>\n",
              "    .dataframe tbody tr th:only-of-type {\n",
              "        vertical-align: middle;\n",
              "    }\n",
              "\n",
              "    .dataframe tbody tr th {\n",
              "        vertical-align: top;\n",
              "    }\n",
              "\n",
              "    .dataframe thead th {\n",
              "        text-align: right;\n",
              "    }\n",
              "</style>\n",
              "<table border=\"1\" class=\"dataframe\">\n",
              "  <thead>\n",
              "    <tr style=\"text-align: right;\">\n",
              "      <th></th>\n",
              "      <th>movie_id</th>\n",
              "      <th>movie_title</th>\n",
              "      <th>genres</th>\n",
              "      <th>clean_title</th>\n",
              "      <th>year</th>\n",
              "      <th>decade</th>\n",
              "      <th>Animation</th>\n",
              "      <th>Children's</th>\n",
              "      <th>Comedy</th>\n",
              "      <th>Adventure</th>\n",
              "      <th>...</th>\n",
              "      <th>Crime</th>\n",
              "      <th>Thriller</th>\n",
              "      <th>Horror</th>\n",
              "      <th>Sci-Fi</th>\n",
              "      <th>Documentary</th>\n",
              "      <th>War</th>\n",
              "      <th>Musical</th>\n",
              "      <th>Mystery</th>\n",
              "      <th>Film-Noir</th>\n",
              "      <th>Western</th>\n",
              "    </tr>\n",
              "  </thead>\n",
              "  <tbody>\n",
              "    <tr>\n",
              "      <th>0</th>\n",
              "      <td>1</td>\n",
              "      <td>Toy Story (1995)</td>\n",
              "      <td>[Animation, Children's, Comedy]</td>\n",
              "      <td>Toy Story</td>\n",
              "      <td>1995</td>\n",
              "      <td>1990</td>\n",
              "      <td>1</td>\n",
              "      <td>1</td>\n",
              "      <td>1</td>\n",
              "      <td>0</td>\n",
              "      <td>...</td>\n",
              "      <td>0</td>\n",
              "      <td>0</td>\n",
              "      <td>0</td>\n",
              "      <td>0</td>\n",
              "      <td>0</td>\n",
              "      <td>0</td>\n",
              "      <td>0</td>\n",
              "      <td>0</td>\n",
              "      <td>0</td>\n",
              "      <td>0</td>\n",
              "    </tr>\n",
              "    <tr>\n",
              "      <th>1</th>\n",
              "      <td>2</td>\n",
              "      <td>Jumanji (1995)</td>\n",
              "      <td>[Adventure, Children's, Fantasy]</td>\n",
              "      <td>Jumanji</td>\n",
              "      <td>1995</td>\n",
              "      <td>1990</td>\n",
              "      <td>0</td>\n",
              "      <td>1</td>\n",
              "      <td>0</td>\n",
              "      <td>1</td>\n",
              "      <td>...</td>\n",
              "      <td>0</td>\n",
              "      <td>0</td>\n",
              "      <td>0</td>\n",
              "      <td>0</td>\n",
              "      <td>0</td>\n",
              "      <td>0</td>\n",
              "      <td>0</td>\n",
              "      <td>0</td>\n",
              "      <td>0</td>\n",
              "      <td>0</td>\n",
              "    </tr>\n",
              "    <tr>\n",
              "      <th>2</th>\n",
              "      <td>3</td>\n",
              "      <td>Grumpier Old Men (1995)</td>\n",
              "      <td>[Comedy, Romance]</td>\n",
              "      <td>Grumpier Old Men</td>\n",
              "      <td>1995</td>\n",
              "      <td>1990</td>\n",
              "      <td>0</td>\n",
              "      <td>0</td>\n",
              "      <td>1</td>\n",
              "      <td>0</td>\n",
              "      <td>...</td>\n",
              "      <td>0</td>\n",
              "      <td>0</td>\n",
              "      <td>0</td>\n",
              "      <td>0</td>\n",
              "      <td>0</td>\n",
              "      <td>0</td>\n",
              "      <td>0</td>\n",
              "      <td>0</td>\n",
              "      <td>0</td>\n",
              "      <td>0</td>\n",
              "    </tr>\n",
              "    <tr>\n",
              "      <th>3</th>\n",
              "      <td>4</td>\n",
              "      <td>Waiting to Exhale (1995)</td>\n",
              "      <td>[Comedy, Drama]</td>\n",
              "      <td>Waiting to Exhale</td>\n",
              "      <td>1995</td>\n",
              "      <td>1990</td>\n",
              "      <td>0</td>\n",
              "      <td>0</td>\n",
              "      <td>1</td>\n",
              "      <td>0</td>\n",
              "      <td>...</td>\n",
              "      <td>0</td>\n",
              "      <td>0</td>\n",
              "      <td>0</td>\n",
              "      <td>0</td>\n",
              "      <td>0</td>\n",
              "      <td>0</td>\n",
              "      <td>0</td>\n",
              "      <td>0</td>\n",
              "      <td>0</td>\n",
              "      <td>0</td>\n",
              "    </tr>\n",
              "    <tr>\n",
              "      <th>4</th>\n",
              "      <td>5</td>\n",
              "      <td>Father of the Bride Part II (1995)</td>\n",
              "      <td>[Comedy]</td>\n",
              "      <td>Father of the Bride Part II</td>\n",
              "      <td>1995</td>\n",
              "      <td>1990</td>\n",
              "      <td>0</td>\n",
              "      <td>0</td>\n",
              "      <td>1</td>\n",
              "      <td>0</td>\n",
              "      <td>...</td>\n",
              "      <td>0</td>\n",
              "      <td>0</td>\n",
              "      <td>0</td>\n",
              "      <td>0</td>\n",
              "      <td>0</td>\n",
              "      <td>0</td>\n",
              "      <td>0</td>\n",
              "      <td>0</td>\n",
              "      <td>0</td>\n",
              "      <td>0</td>\n",
              "    </tr>\n",
              "  </tbody>\n",
              "</table>\n",
              "<p>5 rows × 24 columns</p>\n",
              "</div>"
            ],
            "text/plain": [
              "   movie_id                         movie_title  \\\n",
              "0         1                    Toy Story (1995)   \n",
              "1         2                      Jumanji (1995)   \n",
              "2         3             Grumpier Old Men (1995)   \n",
              "3         4            Waiting to Exhale (1995)   \n",
              "4         5  Father of the Bride Part II (1995)   \n",
              "\n",
              "                             genres                  clean_title  year  \\\n",
              "0   [Animation, Children's, Comedy]                    Toy Story  1995   \n",
              "1  [Adventure, Children's, Fantasy]                      Jumanji  1995   \n",
              "2                 [Comedy, Romance]             Grumpier Old Men  1995   \n",
              "3                   [Comedy, Drama]            Waiting to Exhale  1995   \n",
              "4                          [Comedy]  Father of the Bride Part II  1995   \n",
              "\n",
              "   decade  Animation  Children's  Comedy  Adventure  ...  Crime  Thriller  \\\n",
              "0    1990          1           1       1          0  ...      0         0   \n",
              "1    1990          0           1       0          1  ...      0         0   \n",
              "2    1990          0           0       1          0  ...      0         0   \n",
              "3    1990          0           0       1          0  ...      0         0   \n",
              "4    1990          0           0       1          0  ...      0         0   \n",
              "\n",
              "   Horror  Sci-Fi  Documentary  War  Musical  Mystery  Film-Noir  Western  \n",
              "0       0       0            0    0        0        0          0        0  \n",
              "1       0       0            0    0        0        0          0        0  \n",
              "2       0       0            0    0        0        0          0        0  \n",
              "3       0       0            0    0        0        0          0        0  \n",
              "4       0       0            0    0        0        0          0        0  \n",
              "\n",
              "[5 rows x 24 columns]"
            ]
          },
          "execution_count": 29,
          "metadata": {},
          "output_type": "execute_result"
        }
      ],
      "source": [
        "movies.head()"
      ]
    },
    {
      "cell_type": "code",
      "execution_count": 30,
      "metadata": {
        "id": "-4IidIYzzuPv"
      },
      "outputs": [],
      "source": [
        "#  También las decadas las codificamos utilizando one-hot, pues representarán categorías en el algoritmo de recomendación\n",
        "movie_decades = pd.get_dummies(movies['decade'])"
      ]
    },
    {
      "cell_type": "code",
      "execution_count": 31,
      "metadata": {
        "id": "aqEjn02kzuPv",
        "outputId": "15fd9c63-7256-46a1-8c0c-be054c1ea185"
      },
      "outputs": [
        {
          "data": {
            "text/html": [
              "<div>\n",
              "<style scoped>\n",
              "    .dataframe tbody tr th:only-of-type {\n",
              "        vertical-align: middle;\n",
              "    }\n",
              "\n",
              "    .dataframe tbody tr th {\n",
              "        vertical-align: top;\n",
              "    }\n",
              "\n",
              "    .dataframe thead th {\n",
              "        text-align: right;\n",
              "    }\n",
              "</style>\n",
              "<table border=\"1\" class=\"dataframe\">\n",
              "  <thead>\n",
              "    <tr style=\"text-align: right;\">\n",
              "      <th></th>\n",
              "      <th>Animation</th>\n",
              "      <th>Children's</th>\n",
              "      <th>Comedy</th>\n",
              "      <th>Adventure</th>\n",
              "      <th>Fantasy</th>\n",
              "      <th>Romance</th>\n",
              "      <th>Drama</th>\n",
              "      <th>Action</th>\n",
              "      <th>Crime</th>\n",
              "      <th>Thriller</th>\n",
              "      <th>...</th>\n",
              "      <th>1910</th>\n",
              "      <th>1920</th>\n",
              "      <th>1930</th>\n",
              "      <th>1940</th>\n",
              "      <th>1950</th>\n",
              "      <th>1960</th>\n",
              "      <th>1970</th>\n",
              "      <th>1980</th>\n",
              "      <th>1990</th>\n",
              "      <th>2000</th>\n",
              "    </tr>\n",
              "  </thead>\n",
              "  <tbody>\n",
              "    <tr>\n",
              "      <th>0</th>\n",
              "      <td>1</td>\n",
              "      <td>1</td>\n",
              "      <td>1</td>\n",
              "      <td>0</td>\n",
              "      <td>0</td>\n",
              "      <td>0</td>\n",
              "      <td>0</td>\n",
              "      <td>0</td>\n",
              "      <td>0</td>\n",
              "      <td>0</td>\n",
              "      <td>...</td>\n",
              "      <td>False</td>\n",
              "      <td>False</td>\n",
              "      <td>False</td>\n",
              "      <td>False</td>\n",
              "      <td>False</td>\n",
              "      <td>False</td>\n",
              "      <td>False</td>\n",
              "      <td>False</td>\n",
              "      <td>True</td>\n",
              "      <td>False</td>\n",
              "    </tr>\n",
              "    <tr>\n",
              "      <th>1</th>\n",
              "      <td>0</td>\n",
              "      <td>1</td>\n",
              "      <td>0</td>\n",
              "      <td>1</td>\n",
              "      <td>1</td>\n",
              "      <td>0</td>\n",
              "      <td>0</td>\n",
              "      <td>0</td>\n",
              "      <td>0</td>\n",
              "      <td>0</td>\n",
              "      <td>...</td>\n",
              "      <td>False</td>\n",
              "      <td>False</td>\n",
              "      <td>False</td>\n",
              "      <td>False</td>\n",
              "      <td>False</td>\n",
              "      <td>False</td>\n",
              "      <td>False</td>\n",
              "      <td>False</td>\n",
              "      <td>True</td>\n",
              "      <td>False</td>\n",
              "    </tr>\n",
              "    <tr>\n",
              "      <th>2</th>\n",
              "      <td>0</td>\n",
              "      <td>0</td>\n",
              "      <td>1</td>\n",
              "      <td>0</td>\n",
              "      <td>0</td>\n",
              "      <td>1</td>\n",
              "      <td>0</td>\n",
              "      <td>0</td>\n",
              "      <td>0</td>\n",
              "      <td>0</td>\n",
              "      <td>...</td>\n",
              "      <td>False</td>\n",
              "      <td>False</td>\n",
              "      <td>False</td>\n",
              "      <td>False</td>\n",
              "      <td>False</td>\n",
              "      <td>False</td>\n",
              "      <td>False</td>\n",
              "      <td>False</td>\n",
              "      <td>True</td>\n",
              "      <td>False</td>\n",
              "    </tr>\n",
              "    <tr>\n",
              "      <th>3</th>\n",
              "      <td>0</td>\n",
              "      <td>0</td>\n",
              "      <td>1</td>\n",
              "      <td>0</td>\n",
              "      <td>0</td>\n",
              "      <td>0</td>\n",
              "      <td>1</td>\n",
              "      <td>0</td>\n",
              "      <td>0</td>\n",
              "      <td>0</td>\n",
              "      <td>...</td>\n",
              "      <td>False</td>\n",
              "      <td>False</td>\n",
              "      <td>False</td>\n",
              "      <td>False</td>\n",
              "      <td>False</td>\n",
              "      <td>False</td>\n",
              "      <td>False</td>\n",
              "      <td>False</td>\n",
              "      <td>True</td>\n",
              "      <td>False</td>\n",
              "    </tr>\n",
              "    <tr>\n",
              "      <th>4</th>\n",
              "      <td>0</td>\n",
              "      <td>0</td>\n",
              "      <td>1</td>\n",
              "      <td>0</td>\n",
              "      <td>0</td>\n",
              "      <td>0</td>\n",
              "      <td>0</td>\n",
              "      <td>0</td>\n",
              "      <td>0</td>\n",
              "      <td>0</td>\n",
              "      <td>...</td>\n",
              "      <td>False</td>\n",
              "      <td>False</td>\n",
              "      <td>False</td>\n",
              "      <td>False</td>\n",
              "      <td>False</td>\n",
              "      <td>False</td>\n",
              "      <td>False</td>\n",
              "      <td>False</td>\n",
              "      <td>True</td>\n",
              "      <td>False</td>\n",
              "    </tr>\n",
              "  </tbody>\n",
              "</table>\n",
              "<p>5 rows × 28 columns</p>\n",
              "</div>"
            ],
            "text/plain": [
              "   Animation  Children's  Comedy  Adventure  Fantasy  Romance  Drama  Action  \\\n",
              "0          1           1       1          0        0        0      0       0   \n",
              "1          0           1       0          1        1        0      0       0   \n",
              "2          0           0       1          0        0        1      0       0   \n",
              "3          0           0       1          0        0        0      1       0   \n",
              "4          0           0       1          0        0        0      0       0   \n",
              "\n",
              "   Crime  Thriller  ...   1910   1920   1930   1940   1950   1960   1970  \\\n",
              "0      0         0  ...  False  False  False  False  False  False  False   \n",
              "1      0         0  ...  False  False  False  False  False  False  False   \n",
              "2      0         0  ...  False  False  False  False  False  False  False   \n",
              "3      0         0  ...  False  False  False  False  False  False  False   \n",
              "4      0         0  ...  False  False  False  False  False  False  False   \n",
              "\n",
              "    1980  1990   2000  \n",
              "0  False  True  False  \n",
              "1  False  True  False  \n",
              "2  False  True  False  \n",
              "3  False  True  False  \n",
              "4  False  True  False  \n",
              "\n",
              "[5 rows x 28 columns]"
            ]
          },
          "execution_count": 31,
          "metadata": {},
          "output_type": "execute_result"
        }
      ],
      "source": [
        "movie_features = pd.concat([movies[genres], movie_decades], axis=1)\n",
        "movie_features.head()"
      ]
    },
    {
      "cell_type": "code",
      "execution_count": 32,
      "metadata": {
        "id": "k3jUWqcUzuPv",
        "outputId": "c1369d66-5001-4631-e251-b1e7de64d05b"
      },
      "outputs": [
        {
          "data": {
            "text/plain": [
              "(3883, 3883)"
            ]
          },
          "execution_count": 32,
          "metadata": {},
          "output_type": "execute_result"
        }
      ],
      "source": [
        "# Realizamos una matriz de similitud item-item utilizando cosine similarity y considerando los géneros y las décadas como elementos del vector de características de cada película.\n",
        "# nos queda una matriz de similaridad de (num_movies, num_movies)\n",
        "\n",
        "from sklearn.metrics.pairwise import cosine_similarity\n",
        "\n",
        "similarity_matrix = cosine_similarity(movie_features, movie_features)\n",
        "similarity_matrix.shape"
      ]
    },
    {
      "cell_type": "code",
      "execution_count": 33,
      "metadata": {
        "id": "OZiBLLSlzuPv"
      },
      "outputs": [],
      "source": [
        "# función para encontrar las películas más similares a una dada. Esta función es una utilidad que permite buscar el id de la película existente más cercana a un texto dado. Es útil en caso de que el nombre de la película no se escriba exactamente igual a como se llama en el dataset.\n",
        "\n",
        "from fuzzywuzzy import process\n",
        "\n",
        "title_to_idx = dict(zip(movies['movie_title'], list(movies.index)))\n",
        "idx_to_title = {v:k for k,v in title_to_idx.items()}\n",
        "\n",
        "def find_movie_idx(title):\n",
        "    all_titles = movies['movie_title'].tolist()\n",
        "    closest_match = process.extractOne(title, all_titles)\n",
        "    return title_to_idx[closest_match[0]]"
      ]
    },
    {
      "cell_type": "code",
      "execution_count": 34,
      "metadata": {
        "id": "ZRL4zO7BzuPv"
      },
      "outputs": [],
      "source": [
        "# ejemplo de una recomendcaión\n",
        "\n",
        "movie_idx = 584 # aladin\n",
        "recommendations_qty = 5\n",
        "sim_scores = list(enumerate(similarity_matrix[movie_idx]))\n",
        "sim_scores = sorted(sim_scores, key=lambda x: x[1], reverse=True)\n",
        "sim_scores = sim_scores[1:(recommendations_qty+1)]\n",
        "similar_movies = [i[0] for i in sim_scores]\n",
        "recommendations = [idx_to_title[x] for x in similar_movies]"
      ]
    },
    {
      "cell_type": "code",
      "execution_count": 35,
      "metadata": {
        "id": "l479-r9XzuPv",
        "outputId": "3d76b069-1b9a-49e1-a29a-31b4723b8480"
      },
      "outputs": [
        {
          "data": {
            "text/plain": [
              "['Hercules (1997)',\n",
              " 'Toy Story (1995)',\n",
              " 'Lion King, The (1994)',\n",
              " 'Nightmare Before Christmas, The (1993)',\n",
              " 'Beauty and the Beast (1991)']"
            ]
          },
          "execution_count": 35,
          "metadata": {},
          "output_type": "execute_result"
        }
      ],
      "source": [
        "recommendations"
      ]
    },
    {
      "cell_type": "markdown",
      "metadata": {
        "id": "6FzeL8OrzuPv"
      },
      "source": [
        "# Algoritmo complejo"
      ]
    },
    {
      "cell_type": "code",
      "execution_count": 36,
      "metadata": {
        "id": "4rPM0yJuzuPv"
      },
      "outputs": [],
      "source": [
        "# supervised complex system\n",
        "\n",
        "# utilizaremos los ultimos ejemplos de cada usuario como parte del test set\n",
        "ratings['latest_rank'] = ratings.groupby(['user_id'])['timestamp'].rank(method='first', ascending=False)\n",
        "train_ratings = ratings[ratings['latest_rank'] != 1]\n",
        "test_ratings = ratings[ratings['latest_rank'] == 1]\n",
        "\n",
        "# conservamos unicamente user_id, movie_id, y rating\n",
        "train_ratings = train_ratings[['user_id', 'movie_id', 'rating']]\n",
        "test_ratings = test_ratings[['user_id', 'movie_id', 'rating']]\n",
        "\n"
      ]
    },
    {
      "cell_type": "markdown",
      "metadata": {
        "id": "-JT3FkKPzuPv"
      },
      "source": [
        "Muchas veces en vida real no tenemos una calificación explicita por parte del usuario sino que contamos con datos como si vio o no una película. Generaremos una columna con 1 si la vio y con 0 si no la vio. Se asume que si no la ha calificado, no está interesado en ella lo cual de acuerdo con la investigación indica que es lo que comúnmente se hace y funciona bien en la práctica.\n",
        "\n",
        "No trataremos de predecir calificaciones sino si el usuario vera o no una película"
      ]
    },
    {
      "cell_type": "code",
      "execution_count": 37,
      "metadata": {
        "id": "s9aByhAxzuPw"
      },
      "outputs": [],
      "source": [
        "train_ratings.loc[:, 'rating'] = 1"
      ]
    },
    {
      "cell_type": "code",
      "execution_count": 38,
      "metadata": {
        "id": "4ZzHRBOKzuPw"
      },
      "outputs": [],
      "source": [
        "import torch\n",
        "from torch.utils.data import Dataset\n",
        "\n",
        "class RatingsDataset(Dataset):\n",
        "    '''\n",
        "    Dataset para generar los datos de entrenamiento para el modelo de deep learning.\n",
        "    Toma como entraada los ratings de las peliculas y transforma las calificaciones existentes en etiquetas de que el usuario vio la pelicula y genera N ejemplos no existentes para etiquetas de que el usuario no vio la pelicula. Esto servirá para entrenar el modelo de deep learning.\n",
        "\n",
        "    Args:\n",
        "        ratings: dataframe de pandas con las calificaciones\n",
        "        negative_examples_qty: cantidad de ejemplos negativos a generar\n",
        "        all_movieids: lista de IDs de todas las peliculas disponibles, no solo en set de entrenamiento\n",
        "    Returns:\n",
        "        tupla con id de usuario, id de pelicula y etiqueta\n",
        "\n",
        "    '''\n",
        "    def __init__(self, ratings, negative_examples_qty, all_movieids):\n",
        "        self.all_movieids = all_movieids\n",
        "        self.negative_examples_qty = negative_examples_qty\n",
        "        self.users, self.movies, self.labels = self._get_dataset(ratings, self.all_movieids)\n",
        "\n",
        "    def __len__(self):\n",
        "        return len(self.users)\n",
        "\n",
        "    def __getitem__(self, idx):\n",
        "        return self.users[idx], self.movies[idx], self.labels[idx]\n",
        "\n",
        "    def _get_dataset(self, ratings, all_movieids):\n",
        "        users, movies, labels = [], [], []\n",
        "\n",
        "        # hacemos un set de pares, usuario - pelicula, no existen pares duplicados\n",
        "        user_movie_set = set(zip(ratings['user_id'], ratings['movie_id']))\n",
        "\n",
        "        for (user_id, movie_id) in user_movie_set:\n",
        "            users.append(user_id)\n",
        "            movies.append(movie_id)\n",
        "            labels.append(1) # consideramos que si calificó la película, la vio\n",
        "            for idx in range(self.negative_examples_qty):\n",
        "                # selecciona una pelicula aleatoria\n",
        "                negative_item = np.random.choice(all_movieids)\n",
        "                # revisar que el usuario no haya interactuado con esta pelicula antes\n",
        "                while (user_id, negative_item) in user_movie_set:\n",
        "                    negative_item = np.random.choice(all_movieids)\n",
        "                users.append(user_id)\n",
        "                movies.append(negative_item)\n",
        "                labels.append(0) # no vio la pelicula\n",
        "\n",
        "        return users, movies, labels\n"
      ]
    },
    {
      "cell_type": "code",
      "execution_count": 39,
      "metadata": {
        "id": "2V_yMopXzuPw"
      },
      "outputs": [],
      "source": [
        "import torch.nn as nn\n",
        "import pytorch_lightning as pl\n",
        "from torch.utils.data import DataLoader\n",
        "\n",
        "class DLRecommenderModel(pl.LightningModule):\n",
        "    '''\n",
        "    Sistema de recomendcaión que utiliza un modelo de deep learning para implementar un filtro colaborativo que modela una función de similaridad entre vectores (embeddings) de usuarios y películas.\n",
        "\n",
        "    Args:\n",
        "        n_users: cantidad de usuarios\n",
        "        n_movies: cantidad de películas\n",
        "        ratings: base de datos de calificaiones de peliculas\n",
        "        all_movieids: lista de IDs de todas las peliculas disponibles, no solo en set de entrenamiento\n",
        "        negative_examples_qty: cantidad de ejemplos negativos a generar por cada positivo\n",
        "    '''\n",
        "\n",
        "    _EMBEDDING_DIMENSIONS = 6\n",
        "\n",
        "    def __init__(self, n_users, n_movies, ratings, all_movieids, negative_examples_qty):\n",
        "        super().__init__() # llamamos al constructor de la clase padre\n",
        "        self.negative_examples_qty = negative_examples_qty\n",
        "        self.user_embedding = nn.Embedding(num_embeddings=n_users, embedding_dim=self._EMBEDDING_DIMENSIONS) # usamos capa Embedding de pytorch\n",
        "        self.movie_embedding = nn.Embedding(num_embeddings=n_movies, embedding_dim=self._EMBEDDING_DIMENSIONS)\n",
        "\n",
        "        # posterior a las capas embeddings se aplican dos capas densas, también llamadas Full connected.\n",
        "        self.fc1 = nn.Linear(12, 64) # 12 features de entrada = 6 (de user embedding) + 6 (de movie embedding), 64 features de salida o neuronas\n",
        "        self.fc2 = nn.Linear(64, 32) # 64 features de entrada, 32 features de salida\n",
        "        self.fc3 = nn.Linear(32, 1) # 32 features de entrada, 1 feature de salida (prediccion)\n",
        "        self.ratings = ratings.copy()\n",
        "        self.all_movieids = all_movieids.copy()\n",
        "\n",
        "\n",
        "    def forward(self, user_id, movie_id):\n",
        "        # calculamos los embeddings\n",
        "        user_embedding = self.user_embedding(user_id)\n",
        "        movie_embedding = self.movie_embedding(movie_id)\n",
        "        # concatenamos los embeddings de usuario y pelicula\n",
        "        x = torch.cat([user_embedding, movie_embedding], dim=1)\n",
        "\n",
        "        # aplicamos las capas densas\n",
        "        x = nn.ReLU()(self.fc1(x)) # función de activación ReLU para capas intermedias\n",
        "        x = nn.ReLU()(self.fc2(x))\n",
        "        out = nn.Sigmoid()(self.fc3(x)) # función de activación sigmoide para obtener un valor entre 0 y 1 como salida final\n",
        "\n",
        "        return out\n",
        "\n",
        "\n",
        "    def training_step(self, batch, batch_idx):\n",
        "        user_ids, movie_ids, labels = batch\n",
        "        predictions = self(user_ids, movie_ids)\n",
        "        # utilizaremos la función de pérdida Binary Cross Entropy, pues nuestro problema de clasificación es de tipo binario (dos clases)\n",
        "        loss = nn.BCELoss()(predictions, labels.view(-1, 1).float())\n",
        "        return loss\n",
        "\n",
        "    def configure_optimizers(self):\n",
        "        # utilizamos Adam como optimizador, se puede ajustar el learning rate\n",
        "        return torch.optim.Adam(self.parameters(), lr=0.001)\n",
        "\n",
        "    def train_dataloader(self):\n",
        "        dataset = RatingsDataset(self.ratings, self.negative_examples_qty, self.all_movieids)\n",
        "        return DataLoader(dataset, batch_size=512, num_workers=0)\n"
      ]
    },
    {
      "cell_type": "code",
      "execution_count": 40,
      "metadata": {
        "colab": {
          "referenced_widgets": [
            "eb006689d609470996b1c30502fa4e6d"
          ]
        },
        "id": "-VnCUxlrzuPw",
        "outputId": "d42e473a-2b34-493e-fb71-400715ace347"
      },
      "outputs": [
        {
          "name": "stderr",
          "output_type": "stream",
          "text": [
            "GPU available: True (mps), used: True\n",
            "TPU available: False, using: 0 TPU cores\n",
            "IPU available: False, using: 0 IPUs\n",
            "HPU available: False, using: 0 HPUs\n",
            "/Users/moisesdiaz/miniconda3/lib/python3.11/site-packages/pytorch_lightning/callbacks/model_checkpoint.py:653: Checkpoint directory /Users/moisesdiaz/github/MNA/BigData/avance2/checkpoints exists and is not empty.\n",
            "\n",
            "  | Name            | Type      | Params\n",
            "----------------------------------------------\n",
            "0 | user_embedding  | Embedding | 36.2 K\n",
            "1 | movie_embedding | Embedding | 23.7 K\n",
            "2 | fc1             | Linear    | 832   \n",
            "3 | fc2             | Linear    | 2.1 K \n",
            "4 | fc3             | Linear    | 33    \n",
            "----------------------------------------------\n",
            "62.9 K    Trainable params\n",
            "0         Non-trainable params\n",
            "62.9 K    Total params\n",
            "0.252     Total estimated model params size (MB)\n",
            "/Users/moisesdiaz/miniconda3/lib/python3.11/site-packages/pytorch_lightning/trainer/connectors/data_connector.py:441: The 'train_dataloader' does not have many workers which may be a bottleneck. Consider increasing the value of the `num_workers` argument` to `num_workers=15` in the `DataLoader` to improve performance.\n"
          ]
        },
        {
          "data": {
            "application/vnd.jupyter.widget-view+json": {
              "model_id": "00aaa28f814541afba30508a8afb4150",
              "version_major": 2,
              "version_minor": 0
            },
            "text/plain": [
              "Training: |          | 0/? [00:00<?, ?it/s]"
            ]
          },
          "metadata": {},
          "output_type": "display_data"
        },
        {
          "name": "stderr",
          "output_type": "stream",
          "text": [
            "`Trainer.fit` stopped: `max_epochs=6` reached.\n"
          ]
        }
      ],
      "source": [
        "# entrenamos el modelo\n",
        "\n",
        "num_users = ratings['user_id'].max() + 1\n",
        "num_items = ratings['movie_id'].max() + 1\n",
        "all_movieids = ratings['movie_id'].unique()\n",
        "\n",
        "model = DLRecommenderModel(num_users, num_items, train_ratings, all_movieids, negative_examples_qty=5)\n",
        "\n",
        "trainer = pl.Trainer(max_epochs=6, logger=False, accelerator='mps', devices=1)\n",
        "trainer.fit(model)\n"
      ]
    },
    {
      "cell_type": "markdown",
      "metadata": {
        "id": "Irj1ozRZzuPw"
      },
      "source": [
        "### Métricas de evaluación de algoritmo complejo\n",
        "#### 1. HitRatio@10\n",
        "\n",
        "1. Para cada usuario seleccionamos de manera aleatoria 99 títulos de pelicula que el usuario no ha visto (en este caso que no ha evaluado). A estos 99 le sumamos la que el usuario ya vio. De esta forma tenemos 100 películas.\n",
        "\n",
        "2. Ejecutamos la inferencia sobre estas 100 películas, ordenamos el resultado de las probabilidades de manera descendente y seleccionamos el top 10.\n",
        "\n",
        "3. Si la película que ha visto está presente en el top 10, se considera un acierto y se le asigna un 1. En caso contrario se le asigna un 0.\n",
        "\n",
        "4. Se repite el proceso para todos los usuarios y se hace el promedio de aciertos."
      ]
    },
    {
      "cell_type": "code",
      "execution_count": 41,
      "metadata": {
        "id": "0iePbhnZzuPw",
        "outputId": "0ed1d834-318f-45f3-be50-05b8fb719398"
      },
      "outputs": [
        {
          "name": "stdout",
          "output_type": "stream",
          "text": [
            "HitRatio @ 10: 0.44834437086092715\n"
          ]
        }
      ],
      "source": [
        "# evaluamos usando el set de prueba\n",
        "user_interactions = set(zip(test_ratings['user_id'], test_ratings['movie_id']))\n",
        "user_to_seen_movies_dict = ratings.groupby('user_id')['movie_id'].apply(list).to_dict()\n",
        "\n",
        "\n",
        "hits = []\n",
        "for (user_id, movie_id) in user_interactions:\n",
        "    seen_movies = user_to_seen_movies_dict[user_id]\n",
        "    non_seen_movies = set(all_movieids) - set(seen_movies)\n",
        "    selected_movies = list(np.random.choice(list(non_seen_movies), 99))\n",
        "    test_movies = selected_movies + [movie_id]\n",
        "\n",
        "    predicted_labels = np.squeeze(model(torch.tensor([user_id]*100), torch.tensor(test_movies)).detach().numpy())\n",
        "\n",
        "    top_10_idx = [test_movies[i] for i in np.argsort(predicted_labels)[::-1][0:10].tolist()] # i puede ir de 0 a 100, convertimos a indice de pelicula\n",
        "\n",
        "    if movie_id in top_10_idx:\n",
        "        hits.append(1)\n",
        "    else:\n",
        "        hits.append(0)\n",
        "\n",
        "\n",
        "print(f\"HitRatio @ 10: {np.mean(hits)}\")"
      ]
    },
    {
      "cell_type": "code",
      "execution_count": 42,
      "metadata": {
        "id": "BVTtMhCdzzoy"
      },
      "outputs": [],
      "source": [
        "from sklearn.metrics import precision_score"
      ]
    },
    {
      "cell_type": "markdown",
      "metadata": {
        "id": "g2mpeHmJzzLQ"
      },
      "source": [
        "### **Precision@k**\n",
        "\n",
        "Es una medida del cociente de los ítems recomendados entre los top k que son relevantes para el usuario.\n",
        "\n",
        "P =Número de recomendaciones principales relevantes / Número de todos los elementos relevantes![metricas.jpg](data:image/jpeg;base64,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)"
      ]
    },
    {
      "cell_type": "code",
      "execution_count": 43,
      "metadata": {
        "id": "0wzJ1CKhz_UM"
      },
      "outputs": [
        {
          "name": "stdout",
          "output_type": "stream",
          "text": [
            "Precisión @ 10: 0.454635761589404\n"
          ]
        }
      ],
      "source": [
        "from sklearn.metrics import precision_score\n",
        "\n",
        "precision_results = []\n",
        "\n",
        "# Iterar sobre las interacciones de usuario y película en el conjunto de prueba\n",
        "for (user_id, movie_id) in user_interactions:\n",
        "    # Obtener las películas vistas por el usuario\n",
        "    seen_movies = user_to_seen_movies_dict[user_id]\n",
        "    # Calcular las películas no vistas por el usuario\n",
        "    non_seen_movies = set(all_movieids) - set(seen_movies)\n",
        "    # Seleccionar aleatoriamente 99 películas no vistas y agregar la película de prueba\n",
        "    selected_movies = list(np.random.choice(list(non_seen_movies), 99))\n",
        "    test_movies = selected_movies + [movie_id]\n",
        "\n",
        "    # Realizar predicciones del modelo para las películas de prueba\n",
        "    predicted_labels = np.squeeze(model(torch.tensor([user_id]*100), torch.tensor(test_movies)).detach().numpy())\n",
        "\n",
        "    # Obtener los índices de las 10 películas principales\n",
        "    top_10_idx = [test_movies[i] for i in np.argsort(predicted_labels)[::-1][0:10].tolist()]\n",
        "\n",
        "    # Verificar si la película de prueba está entre las 10 principales\n",
        "    if movie_id in top_10_idx:\n",
        "        precision_results.append(1)\n",
        "    else:\n",
        "        precision_results.append(0)\n",
        "\n",
        "precision_at_10 = np.mean(precision_results)\n",
        "\n",
        "print(f\"Precisión @ 10: {precision_at_10}\")\n"
      ]
    },
    {
      "cell_type": "markdown",
      "metadata": {
        "id": "Kxgpwvgb0FRw"
      },
      "source": [
        "### **F1@k**\n",
        "\n",
        "Es la media armónica de precision@k y recall@k, que ayuda a simplificarlos en una única métrica.\n",
        "Todas las métricas mencionadas anteriormente pueden calcularse con base en la matriz de confusión\n"
      ]
    },
    {
      "cell_type": "markdown",
      "metadata": {
        "id": "wU4QFZi_0v2o"
      },
      "source": []
    },
    {
      "cell_type": "code",
      "execution_count": 44,
      "metadata": {
        "id": "8XmdUaoO0Nv1"
      },
      "outputs": [],
      "source": [
        "from sklearn.metrics import f1_score"
      ]
    },
    {
      "cell_type": "code",
      "execution_count": 45,
      "metadata": {
        "id": "5yXRuc8A0Iel"
      },
      "outputs": [
        {
          "name": "stdout",
          "output_type": "stream",
          "text": [
            "F1 @ 10: 0.4484271370360907\n"
          ]
        }
      ],
      "source": [
        "\n",
        "precision_results = []\n",
        "\n",
        "for (user_id, movie_id) in user_interactions:\n",
        "    # Obtener las películas vistas por el usuario\n",
        "    seen_movies = user_to_seen_movies_dict[user_id]\n",
        "    # Calcular las películas no vistas por el usuario\n",
        "    non_seen_movies = set(all_movieids) - set(seen_movies)\n",
        "    # Seleccionar aleatoriamente 99 películas no vistas y agregar la película de prueba\n",
        "    selected_movies = list(np.random.choice(list(non_seen_movies), 99))\n",
        "    test_movies = selected_movies + [movie_id]\n",
        "\n",
        "    # Realizar predicciones del modelo para las películas de prueba\n",
        "    predicted_labels = np.squeeze(model(torch.tensor([user_id]*100), torch.tensor(test_movies)).detach().numpy())\n",
        "\n",
        "    # Obtener los índices de las 10 películas principales\n",
        "    top_10_idx = [test_movies[i] for i in np.argsort(predicted_labels)[::-1][0:10].tolist()]\n",
        "\n",
        "    # Verificar si la película de prueba está entre las 10 principales\n",
        "    if movie_id in top_10_idx:\n",
        "        precision_results.append(1)\n",
        "    else:\n",
        "        precision_results.append(0)\n",
        "\n",
        "\n",
        "precision_at_10 = np.mean(precision_results)\n",
        "recall_at_10 = np.mean(hits)\n",
        "\n",
        "f1_at_10 = 2 * (precision_at_10 * recall_at_10) / (precision_at_10 + recall_at_10) if (precision_at_10 + recall_at_10) > 0 else 0\n",
        "\n",
        "print(f\"F1 @ 10: {f1_at_10}\")"
      ]
    },
    {
      "cell_type": "markdown",
      "metadata": {
        "id": "cQJmktvKzuPw"
      },
      "source": [
        "#### 2. Normalized Discounted Cumulative Gain (NDCG)\n",
        "\n",
        "Mide que tan buena es una lista de recomendaciones tomando en cuenta el orden de la recomendación, en este caso toma en cuenta la posición de la película objetivo recomendada asignando una mejor calificación entre más arriba se encuentre en el ranking que regres."
      ]
    },
    {
      "cell_type": "markdown",
      "metadata": {
        "id": "4D9vhllezuPw"
      },
      "source": [
        "# Propuesta: sistema de recomendacion hibrido\n",
        "\n",
        "Combinaremos un sistema de recomendación de filtro colaborativo con el basado en contenido.\n",
        "Para ello utilizaremos las siguientes condiciones, que en un futuro pueden ampliarse.\n",
        "\n",
        "Condiciones:\n",
        "1. Si el usuario es nuevo y no ha visto contenido realizaremos una recomendación global, el sistema más simple presentado en este documento, que implica recomendar lo más visto, productos populares.\n",
        "2. Si el usuario no es nuevo pero tiene menos de 20 calificaciones de peliculas, utilizaremos el filtro basado en contenido. Es decir recomendaremos productos que son afines en características.\n",
        "   -  En caso de que no exista la película buscaremos si existe el la base de datos imdb y recomendaremos por contenido utilizando esa base de datos.\n",
        "3. Si las peliculas calificadas por un usuario son mayores a 20 utilizaremos el filtro colaborativo. Se recomendarán películas de acuerdo con el comportamiento del usuario.\n"
      ]
    },
    {
      "cell_type": "code",
      "execution_count": 46,
      "metadata": {
        "id": "Dn_cdrWGzuPw"
      },
      "outputs": [],
      "source": [
        "\n",
        "def global_recommender(top_n):\n",
        "    '''\n",
        "    Recomendador global de películas.\n",
        "    Hace recomendaciones generales con base en la popularidad de las películas, las más vistas. En este caso se considerarán como las mas vistas, las más veces calificadas.\n",
        "    '''\n",
        "    top_movies = ratings.value_counts('movie_id').sort_values(ascending=False).head(top_n)\n",
        "    return [movieid_to_title[x] for x in top_movies.tolist()]\n"
      ]
    },
    {
      "cell_type": "code",
      "execution_count": 47,
      "metadata": {
        "id": "JoAHY-VNzuPw"
      },
      "outputs": [],
      "source": [
        "'''\n",
        "Sistema de recomendación híbrido\n",
        "\n",
        "'''\n",
        "\n",
        "def make_recommendation(user_id, title, top_n=5):\n",
        "    '''\n",
        "    Recomendador de peliculas propuesto. Hace uso de 3 tipos de sistema de recomendación:\n",
        "    - Recomendador global: basado en la popularidad global de las películas\n",
        "    - Recomendador por contenido: basado en las características de las películas\n",
        "    - Recomendador por usuario: basado en las películas que ha visto el usuario\n",
        "\n",
        "    Args:\n",
        "        user_id: id del usuario (required)\n",
        "        title: título de la película (optional), si es su primera vez en la plataforma de streaming, no ha visto un título\n",
        "        top_n: cantidad de recomendaciones a hacer\n",
        "    Returns:\n",
        "        lista de top_n recomendaciones\n",
        "    '''\n",
        "    USER_REVIEW_THRESHOLD = 20\n",
        "\n",
        "    if ratings.loc[ratings['user_id'] == user_id, 'user_id'].count() > USER_REVIEW_THRESHOLD:\n",
        "        # el usuario ha visto suficientes películas\n",
        "        movie_idx = find_movie_idx(title)\n",
        "        similar_idx = collaborative_filtering(1, user_movie_matrix, k=top_n, metric='cosine')\n",
        "        return [movieid_to_title[movie_id] for (movie_id, _) in similar_idx[1:]]\n",
        "\n",
        "    elif title:\n",
        "        # el usuario ha visto pocas películas, utilizar filtro basado en contenido\n",
        "        movie_idx = find_movie_idx(title)\n",
        "        sim_scores = list(enumerate(similarity_matrix[movie_idx]))\n",
        "        sim_scores = sorted(sim_scores, key=lambda x: x[1], reverse=True)\n",
        "        sim_scores = sim_scores[1:(top_n+1)]\n",
        "        similar_movies = [i[0] for i in sim_scores]\n",
        "        return [idx_to_title[x] for x in similar_movies]\n",
        "\n",
        "    if title is None:\n",
        "        # no ha visto ninguna película\n",
        "        return global_recommender(top_n)\n",
        "\n",
        "\n",
        "\n"
      ]
    },
    {
      "cell_type": "code",
      "execution_count": 48,
      "metadata": {
        "id": "QRdkcB7nzuPw",
        "outputId": "91b82f20-f2f6-4a1d-e85d-857a49bfd4a4"
      },
      "outputs": [
        {
          "data": {
            "text/plain": [
              "['Champ, The (1979)',\n",
              " 'Live and Let Die (1973)',\n",
              " 'Licence to Kill (1989)',\n",
              " 'Mumford (1999)',\n",
              " 'Thirteenth Floor, The (1999)']"
            ]
          },
          "execution_count": 48,
          "metadata": {},
          "output_type": "execute_result"
        }
      ],
      "source": [
        "# simulando un usuairo nuevo en la plataforma, sin contenido\n",
        "user_id = 3021\n",
        "make_recommendation(user_id, None, top_n=5)"
      ]
    },
    {
      "cell_type": "code",
      "execution_count": 49,
      "metadata": {
        "id": "xSQaSR7mzuPx",
        "outputId": "c0012d53-ffed-44bb-e269-94ab73a96b92"
      },
      "outputs": [
        {
          "data": {
            "text/plain": [
              "['Toy Story 2 (1999)',\n",
              " 'Groundhog Day (1993)',\n",
              " 'Aladdin (1992)',\n",
              " \"Bug's Life, A (1998)\",\n",
              " 'Back to the Future (1985)']"
            ]
          },
          "execution_count": 49,
          "metadata": {},
          "output_type": "execute_result"
        }
      ],
      "source": [
        "# simulando un usuario con suficientes reviews (utiliza filtro colaborativo)\n",
        "user_id = 1\n",
        "make_recommendation(user_id, \"Toy Story\", top_n=5)"
      ]
    },
    {
      "cell_type": "code",
      "execution_count": 50,
      "metadata": {
        "id": "yYfNNpSezuPx",
        "outputId": "8d38e662-8955-41d8-9b71-570673e1ac61"
      },
      "outputs": [
        {
          "data": {
            "text/plain": [
              "['Hercules (1997)',\n",
              " 'Toy Story (1995)',\n",
              " 'Lion King, The (1994)',\n",
              " 'Nightmare Before Christmas, The (1993)',\n",
              " 'Beauty and the Beast (1991)']"
            ]
          },
          "execution_count": 50,
          "metadata": {},
          "output_type": "execute_result"
        }
      ],
      "source": [
        "# simulando un usuario con pocos reviews (utiliza filtro basado en contenido)\n",
        "user_id = 3021\n",
        "make_recommendation(user_id, \"Aladin\", top_n=5)"
      ]
    }
  ],
  "metadata": {
    "colab": {
      "provenance": []
    },
    "kernelspec": {
      "display_name": "base",
      "language": "python",
      "name": "python3"
    },
    "language_info": {
      "codemirror_mode": {
        "name": "ipython",
        "version": 3
      },
      "file_extension": ".py",
      "mimetype": "text/x-python",
      "name": "python",
      "nbconvert_exporter": "python",
      "pygments_lexer": "ipython3",
      "version": "3.11.7"
    }
  },
  "nbformat": 4,
  "nbformat_minor": 0
}
