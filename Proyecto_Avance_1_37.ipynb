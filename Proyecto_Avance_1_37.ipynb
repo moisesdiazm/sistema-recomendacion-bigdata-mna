{
  "nbformat": 4,
  "nbformat_minor": 0,
  "metadata": {
    "colab": {
      "provenance": []
    },
    "kernelspec": {
      "name": "python3",
      "display_name": "Python 3"
    },
    "language_info": {
      "name": "python"
    }
  },
  "cells": [
    {
      "cell_type": "markdown",
      "source": [
        "# Avance de proyecto 1: Sistema de recomendación\n",
        "## Maestría en inteligencia artificial aplicada: Análisis de grandes volúmenes de datos\n",
        "\n",
        "\n",
        "Equipo:\n",
        "- Abraham Cabanzo Jimenez A01794355\n",
        "- Ignacio Antonio Ruiz Guerra A00889972\n",
        "- Moisés Díaz Malagón A01208580\n"
      ],
      "metadata": {
        "id": "4lIroAAbvT0l"
      }
    },
    {
      "cell_type": "code",
      "source": [
        "# si se utiliza google colab\n",
        "from google.colab import drive\n",
        "import os\n",
        "drive.mount('/content/drive')\n",
        "os.chdir(\"drive/My Drive/CloudTeamMNA\")"
      ],
      "metadata": {
        "id": "F6-hZ1whvcRd",
        "colab": {
          "base_uri": "https://localhost:8080/"
        },
        "outputId": "af07d07c-70c0-45be-ac2c-42e09b6d9175"
      },
      "execution_count": 2,
      "outputs": [
        {
          "output_type": "stream",
          "name": "stdout",
          "text": [
            "Mounted at /content/drive\n"
          ]
        }
      ]
    },
    {
      "cell_type": "markdown",
      "source": [
        "## Exploración inicial y análisis del conjunto de datos"
      ],
      "metadata": {
        "id": "3It41v1QvrU0"
      }
    },
    {
      "cell_type": "code",
      "source": [
        "# importamos librerias que necesitaremos\n",
        "import pandas as pd\n",
        "import numpy as np\n",
        "import matplotlib.pyplot as plt\n"
      ],
      "metadata": {
        "id": "Mva-cntWvvez"
      },
      "execution_count": 3,
      "outputs": []
    },
    {
      "cell_type": "code",
      "source": [
        "df = pd.read_csv(\"./imdb_top_1000.csv\")"
      ],
      "metadata": {
        "id": "cAApefJAXjnr"
      },
      "execution_count": 4,
      "outputs": []
    },
    {
      "cell_type": "code",
      "source": [
        "# Comenzamos el análisis exploratorio observando algunos de los datos\n",
        "df.head()"
      ],
      "metadata": {
        "colab": {
          "base_uri": "https://localhost:8080/",
          "height": 677
        },
        "id": "xUlOnFZcXlHb",
        "outputId": "72a17c3b-394f-420b-bb8b-305d4942d63a"
      },
      "execution_count": 5,
      "outputs": [
        {
          "output_type": "execute_result",
          "data": {
            "text/plain": [
              "                                         Poster_Link  \\\n",
              "0  https://m.media-amazon.com/images/M/MV5BMDFkYT...   \n",
              "1  https://m.media-amazon.com/images/M/MV5BM2MyNj...   \n",
              "2  https://m.media-amazon.com/images/M/MV5BMTMxNT...   \n",
              "3  https://m.media-amazon.com/images/M/MV5BMWMwMG...   \n",
              "4  https://m.media-amazon.com/images/M/MV5BMWU4N2...   \n",
              "\n",
              "               Series_Title Released_Year Certificate  Runtime  \\\n",
              "0  The Shawshank Redemption          1994           A  142 min   \n",
              "1             The Godfather          1972           A  175 min   \n",
              "2           The Dark Knight          2008          UA  152 min   \n",
              "3    The Godfather: Part II          1974           A  202 min   \n",
              "4              12 Angry Men          1957           U   96 min   \n",
              "\n",
              "                  Genre  IMDB_Rating  \\\n",
              "0                 Drama          9.3   \n",
              "1          Crime, Drama          9.2   \n",
              "2  Action, Crime, Drama          9.0   \n",
              "3          Crime, Drama          9.0   \n",
              "4          Crime, Drama          9.0   \n",
              "\n",
              "                                            Overview  Meta_score  \\\n",
              "0  Two imprisoned men bond over a number of years...        80.0   \n",
              "1  An organized crime dynasty's aging patriarch t...       100.0   \n",
              "2  When the menace known as the Joker wreaks havo...        84.0   \n",
              "3  The early life and career of Vito Corleone in ...        90.0   \n",
              "4  A jury holdout attempts to prevent a miscarria...        96.0   \n",
              "\n",
              "               Director           Star1           Star2          Star3  \\\n",
              "0        Frank Darabont     Tim Robbins  Morgan Freeman     Bob Gunton   \n",
              "1  Francis Ford Coppola   Marlon Brando       Al Pacino     James Caan   \n",
              "2     Christopher Nolan  Christian Bale    Heath Ledger  Aaron Eckhart   \n",
              "3  Francis Ford Coppola       Al Pacino  Robert De Niro  Robert Duvall   \n",
              "4          Sidney Lumet     Henry Fonda     Lee J. Cobb  Martin Balsam   \n",
              "\n",
              "            Star4  No_of_Votes        Gross  \n",
              "0  William Sadler      2343110   28,341,469  \n",
              "1    Diane Keaton      1620367  134,966,411  \n",
              "2   Michael Caine      2303232  534,858,444  \n",
              "3    Diane Keaton      1129952   57,300,000  \n",
              "4    John Fiedler       689845    4,360,000  "
            ],
            "text/html": [
              "\n",
              "  <div id=\"df-7c40ac55-1498-465f-82c1-12c5228a54d7\" class=\"colab-df-container\">\n",
              "    <div>\n",
              "<style scoped>\n",
              "    .dataframe tbody tr th:only-of-type {\n",
              "        vertical-align: middle;\n",
              "    }\n",
              "\n",
              "    .dataframe tbody tr th {\n",
              "        vertical-align: top;\n",
              "    }\n",
              "\n",
              "    .dataframe thead th {\n",
              "        text-align: right;\n",
              "    }\n",
              "</style>\n",
              "<table border=\"1\" class=\"dataframe\">\n",
              "  <thead>\n",
              "    <tr style=\"text-align: right;\">\n",
              "      <th></th>\n",
              "      <th>Poster_Link</th>\n",
              "      <th>Series_Title</th>\n",
              "      <th>Released_Year</th>\n",
              "      <th>Certificate</th>\n",
              "      <th>Runtime</th>\n",
              "      <th>Genre</th>\n",
              "      <th>IMDB_Rating</th>\n",
              "      <th>Overview</th>\n",
              "      <th>Meta_score</th>\n",
              "      <th>Director</th>\n",
              "      <th>Star1</th>\n",
              "      <th>Star2</th>\n",
              "      <th>Star3</th>\n",
              "      <th>Star4</th>\n",
              "      <th>No_of_Votes</th>\n",
              "      <th>Gross</th>\n",
              "    </tr>\n",
              "  </thead>\n",
              "  <tbody>\n",
              "    <tr>\n",
              "      <th>0</th>\n",
              "      <td>https://m.media-amazon.com/images/M/MV5BMDFkYT...</td>\n",
              "      <td>The Shawshank Redemption</td>\n",
              "      <td>1994</td>\n",
              "      <td>A</td>\n",
              "      <td>142 min</td>\n",
              "      <td>Drama</td>\n",
              "      <td>9.3</td>\n",
              "      <td>Two imprisoned men bond over a number of years...</td>\n",
              "      <td>80.0</td>\n",
              "      <td>Frank Darabont</td>\n",
              "      <td>Tim Robbins</td>\n",
              "      <td>Morgan Freeman</td>\n",
              "      <td>Bob Gunton</td>\n",
              "      <td>William Sadler</td>\n",
              "      <td>2343110</td>\n",
              "      <td>28,341,469</td>\n",
              "    </tr>\n",
              "    <tr>\n",
              "      <th>1</th>\n",
              "      <td>https://m.media-amazon.com/images/M/MV5BM2MyNj...</td>\n",
              "      <td>The Godfather</td>\n",
              "      <td>1972</td>\n",
              "      <td>A</td>\n",
              "      <td>175 min</td>\n",
              "      <td>Crime, Drama</td>\n",
              "      <td>9.2</td>\n",
              "      <td>An organized crime dynasty's aging patriarch t...</td>\n",
              "      <td>100.0</td>\n",
              "      <td>Francis Ford Coppola</td>\n",
              "      <td>Marlon Brando</td>\n",
              "      <td>Al Pacino</td>\n",
              "      <td>James Caan</td>\n",
              "      <td>Diane Keaton</td>\n",
              "      <td>1620367</td>\n",
              "      <td>134,966,411</td>\n",
              "    </tr>\n",
              "    <tr>\n",
              "      <th>2</th>\n",
              "      <td>https://m.media-amazon.com/images/M/MV5BMTMxNT...</td>\n",
              "      <td>The Dark Knight</td>\n",
              "      <td>2008</td>\n",
              "      <td>UA</td>\n",
              "      <td>152 min</td>\n",
              "      <td>Action, Crime, Drama</td>\n",
              "      <td>9.0</td>\n",
              "      <td>When the menace known as the Joker wreaks havo...</td>\n",
              "      <td>84.0</td>\n",
              "      <td>Christopher Nolan</td>\n",
              "      <td>Christian Bale</td>\n",
              "      <td>Heath Ledger</td>\n",
              "      <td>Aaron Eckhart</td>\n",
              "      <td>Michael Caine</td>\n",
              "      <td>2303232</td>\n",
              "      <td>534,858,444</td>\n",
              "    </tr>\n",
              "    <tr>\n",
              "      <th>3</th>\n",
              "      <td>https://m.media-amazon.com/images/M/MV5BMWMwMG...</td>\n",
              "      <td>The Godfather: Part II</td>\n",
              "      <td>1974</td>\n",
              "      <td>A</td>\n",
              "      <td>202 min</td>\n",
              "      <td>Crime, Drama</td>\n",
              "      <td>9.0</td>\n",
              "      <td>The early life and career of Vito Corleone in ...</td>\n",
              "      <td>90.0</td>\n",
              "      <td>Francis Ford Coppola</td>\n",
              "      <td>Al Pacino</td>\n",
              "      <td>Robert De Niro</td>\n",
              "      <td>Robert Duvall</td>\n",
              "      <td>Diane Keaton</td>\n",
              "      <td>1129952</td>\n",
              "      <td>57,300,000</td>\n",
              "    </tr>\n",
              "    <tr>\n",
              "      <th>4</th>\n",
              "      <td>https://m.media-amazon.com/images/M/MV5BMWU4N2...</td>\n",
              "      <td>12 Angry Men</td>\n",
              "      <td>1957</td>\n",
              "      <td>U</td>\n",
              "      <td>96 min</td>\n",
              "      <td>Crime, Drama</td>\n",
              "      <td>9.0</td>\n",
              "      <td>A jury holdout attempts to prevent a miscarria...</td>\n",
              "      <td>96.0</td>\n",
              "      <td>Sidney Lumet</td>\n",
              "      <td>Henry Fonda</td>\n",
              "      <td>Lee J. Cobb</td>\n",
              "      <td>Martin Balsam</td>\n",
              "      <td>John Fiedler</td>\n",
              "      <td>689845</td>\n",
              "      <td>4,360,000</td>\n",
              "    </tr>\n",
              "  </tbody>\n",
              "</table>\n",
              "</div>\n",
              "    <div class=\"colab-df-buttons\">\n",
              "\n",
              "  <div class=\"colab-df-container\">\n",
              "    <button class=\"colab-df-convert\" onclick=\"convertToInteractive('df-7c40ac55-1498-465f-82c1-12c5228a54d7')\"\n",
              "            title=\"Convert this dataframe to an interactive table.\"\n",
              "            style=\"display:none;\">\n",
              "\n",
              "  <svg xmlns=\"http://www.w3.org/2000/svg\" height=\"24px\" viewBox=\"0 -960 960 960\">\n",
              "    <path d=\"M120-120v-720h720v720H120Zm60-500h600v-160H180v160Zm220 220h160v-160H400v160Zm0 220h160v-160H400v160ZM180-400h160v-160H180v160Zm440 0h160v-160H620v160ZM180-180h160v-160H180v160Zm440 0h160v-160H620v160Z\"/>\n",
              "  </svg>\n",
              "    </button>\n",
              "\n",
              "  <style>\n",
              "    .colab-df-container {\n",
              "      display:flex;\n",
              "      gap: 12px;\n",
              "    }\n",
              "\n",
              "    .colab-df-convert {\n",
              "      background-color: #E8F0FE;\n",
              "      border: none;\n",
              "      border-radius: 50%;\n",
              "      cursor: pointer;\n",
              "      display: none;\n",
              "      fill: #1967D2;\n",
              "      height: 32px;\n",
              "      padding: 0 0 0 0;\n",
              "      width: 32px;\n",
              "    }\n",
              "\n",
              "    .colab-df-convert:hover {\n",
              "      background-color: #E2EBFA;\n",
              "      box-shadow: 0px 1px 2px rgba(60, 64, 67, 0.3), 0px 1px 3px 1px rgba(60, 64, 67, 0.15);\n",
              "      fill: #174EA6;\n",
              "    }\n",
              "\n",
              "    .colab-df-buttons div {\n",
              "      margin-bottom: 4px;\n",
              "    }\n",
              "\n",
              "    [theme=dark] .colab-df-convert {\n",
              "      background-color: #3B4455;\n",
              "      fill: #D2E3FC;\n",
              "    }\n",
              "\n",
              "    [theme=dark] .colab-df-convert:hover {\n",
              "      background-color: #434B5C;\n",
              "      box-shadow: 0px 1px 3px 1px rgba(0, 0, 0, 0.15);\n",
              "      filter: drop-shadow(0px 1px 2px rgba(0, 0, 0, 0.3));\n",
              "      fill: #FFFFFF;\n",
              "    }\n",
              "  </style>\n",
              "\n",
              "    <script>\n",
              "      const buttonEl =\n",
              "        document.querySelector('#df-7c40ac55-1498-465f-82c1-12c5228a54d7 button.colab-df-convert');\n",
              "      buttonEl.style.display =\n",
              "        google.colab.kernel.accessAllowed ? 'block' : 'none';\n",
              "\n",
              "      async function convertToInteractive(key) {\n",
              "        const element = document.querySelector('#df-7c40ac55-1498-465f-82c1-12c5228a54d7');\n",
              "        const dataTable =\n",
              "          await google.colab.kernel.invokeFunction('convertToInteractive',\n",
              "                                                    [key], {});\n",
              "        if (!dataTable) return;\n",
              "\n",
              "        const docLinkHtml = 'Like what you see? Visit the ' +\n",
              "          '<a target=\"_blank\" href=https://colab.research.google.com/notebooks/data_table.ipynb>data table notebook</a>'\n",
              "          + ' to learn more about interactive tables.';\n",
              "        element.innerHTML = '';\n",
              "        dataTable['output_type'] = 'display_data';\n",
              "        await google.colab.output.renderOutput(dataTable, element);\n",
              "        const docLink = document.createElement('div');\n",
              "        docLink.innerHTML = docLinkHtml;\n",
              "        element.appendChild(docLink);\n",
              "      }\n",
              "    </script>\n",
              "  </div>\n",
              "\n",
              "\n",
              "<div id=\"df-67031a0b-b328-42e2-a69f-51da2e116d04\">\n",
              "  <button class=\"colab-df-quickchart\" onclick=\"quickchart('df-67031a0b-b328-42e2-a69f-51da2e116d04')\"\n",
              "            title=\"Suggest charts\"\n",
              "            style=\"display:none;\">\n",
              "\n",
              "<svg xmlns=\"http://www.w3.org/2000/svg\" height=\"24px\"viewBox=\"0 0 24 24\"\n",
              "     width=\"24px\">\n",
              "    <g>\n",
              "        <path d=\"M19 3H5c-1.1 0-2 .9-2 2v14c0 1.1.9 2 2 2h14c1.1 0 2-.9 2-2V5c0-1.1-.9-2-2-2zM9 17H7v-7h2v7zm4 0h-2V7h2v10zm4 0h-2v-4h2v4z\"/>\n",
              "    </g>\n",
              "</svg>\n",
              "  </button>\n",
              "\n",
              "<style>\n",
              "  .colab-df-quickchart {\n",
              "      --bg-color: #E8F0FE;\n",
              "      --fill-color: #1967D2;\n",
              "      --hover-bg-color: #E2EBFA;\n",
              "      --hover-fill-color: #174EA6;\n",
              "      --disabled-fill-color: #AAA;\n",
              "      --disabled-bg-color: #DDD;\n",
              "  }\n",
              "\n",
              "  [theme=dark] .colab-df-quickchart {\n",
              "      --bg-color: #3B4455;\n",
              "      --fill-color: #D2E3FC;\n",
              "      --hover-bg-color: #434B5C;\n",
              "      --hover-fill-color: #FFFFFF;\n",
              "      --disabled-bg-color: #3B4455;\n",
              "      --disabled-fill-color: #666;\n",
              "  }\n",
              "\n",
              "  .colab-df-quickchart {\n",
              "    background-color: var(--bg-color);\n",
              "    border: none;\n",
              "    border-radius: 50%;\n",
              "    cursor: pointer;\n",
              "    display: none;\n",
              "    fill: var(--fill-color);\n",
              "    height: 32px;\n",
              "    padding: 0;\n",
              "    width: 32px;\n",
              "  }\n",
              "\n",
              "  .colab-df-quickchart:hover {\n",
              "    background-color: var(--hover-bg-color);\n",
              "    box-shadow: 0 1px 2px rgba(60, 64, 67, 0.3), 0 1px 3px 1px rgba(60, 64, 67, 0.15);\n",
              "    fill: var(--button-hover-fill-color);\n",
              "  }\n",
              "\n",
              "  .colab-df-quickchart-complete:disabled,\n",
              "  .colab-df-quickchart-complete:disabled:hover {\n",
              "    background-color: var(--disabled-bg-color);\n",
              "    fill: var(--disabled-fill-color);\n",
              "    box-shadow: none;\n",
              "  }\n",
              "\n",
              "  .colab-df-spinner {\n",
              "    border: 2px solid var(--fill-color);\n",
              "    border-color: transparent;\n",
              "    border-bottom-color: var(--fill-color);\n",
              "    animation:\n",
              "      spin 1s steps(1) infinite;\n",
              "  }\n",
              "\n",
              "  @keyframes spin {\n",
              "    0% {\n",
              "      border-color: transparent;\n",
              "      border-bottom-color: var(--fill-color);\n",
              "      border-left-color: var(--fill-color);\n",
              "    }\n",
              "    20% {\n",
              "      border-color: transparent;\n",
              "      border-left-color: var(--fill-color);\n",
              "      border-top-color: var(--fill-color);\n",
              "    }\n",
              "    30% {\n",
              "      border-color: transparent;\n",
              "      border-left-color: var(--fill-color);\n",
              "      border-top-color: var(--fill-color);\n",
              "      border-right-color: var(--fill-color);\n",
              "    }\n",
              "    40% {\n",
              "      border-color: transparent;\n",
              "      border-right-color: var(--fill-color);\n",
              "      border-top-color: var(--fill-color);\n",
              "    }\n",
              "    60% {\n",
              "      border-color: transparent;\n",
              "      border-right-color: var(--fill-color);\n",
              "    }\n",
              "    80% {\n",
              "      border-color: transparent;\n",
              "      border-right-color: var(--fill-color);\n",
              "      border-bottom-color: var(--fill-color);\n",
              "    }\n",
              "    90% {\n",
              "      border-color: transparent;\n",
              "      border-bottom-color: var(--fill-color);\n",
              "    }\n",
              "  }\n",
              "</style>\n",
              "\n",
              "  <script>\n",
              "    async function quickchart(key) {\n",
              "      const quickchartButtonEl =\n",
              "        document.querySelector('#' + key + ' button');\n",
              "      quickchartButtonEl.disabled = true;  // To prevent multiple clicks.\n",
              "      quickchartButtonEl.classList.add('colab-df-spinner');\n",
              "      try {\n",
              "        const charts = await google.colab.kernel.invokeFunction(\n",
              "            'suggestCharts', [key], {});\n",
              "      } catch (error) {\n",
              "        console.error('Error during call to suggestCharts:', error);\n",
              "      }\n",
              "      quickchartButtonEl.classList.remove('colab-df-spinner');\n",
              "      quickchartButtonEl.classList.add('colab-df-quickchart-complete');\n",
              "    }\n",
              "    (() => {\n",
              "      let quickchartButtonEl =\n",
              "        document.querySelector('#df-67031a0b-b328-42e2-a69f-51da2e116d04 button');\n",
              "      quickchartButtonEl.style.display =\n",
              "        google.colab.kernel.accessAllowed ? 'block' : 'none';\n",
              "    })();\n",
              "  </script>\n",
              "</div>\n",
              "    </div>\n",
              "  </div>\n"
            ],
            "application/vnd.google.colaboratory.intrinsic+json": {
              "type": "dataframe",
              "variable_name": "df",
              "summary": "{\n  \"name\": \"df\",\n  \"rows\": 1000,\n  \"fields\": [\n    {\n      \"column\": \"Poster_Link\",\n      \"properties\": {\n        \"dtype\": \"string\",\n        \"num_unique_values\": 1000,\n        \"samples\": [\n          \"https://m.media-amazon.com/images/M/MV5BMjg5OGU4OGYtNTZmNy00MjQ1LWIzYzgtMTllMGY2NzlkNzYwXkEyXkFqcGdeQXVyMTI3ODAyMzE2._V1_UY98_CR2,0,67,98_AL_.jpg\",\n          \"https://m.media-amazon.com/images/M/MV5BMzA2NDkwODAwM15BMl5BanBnXkFtZTgwODk5MTgzMTE@._V1_UY98_CR0,0,67,98_AL_.jpg\",\n          \"https://m.media-amazon.com/images/M/MV5BNzMxNTExOTkyMF5BMl5BanBnXkFtZTcwMzEyNDc0OA@@._V1_UX67_CR0,0,67,98_AL_.jpg\"\n        ],\n        \"semantic_type\": \"\",\n        \"description\": \"\"\n      }\n    },\n    {\n      \"column\": \"Series_Title\",\n      \"properties\": {\n        \"dtype\": \"string\",\n        \"num_unique_values\": 999,\n        \"samples\": [\n          \"The Best Years of Our Lives\",\n          \"Hedwig and the Angry Inch\",\n          \"Gone Girl\"\n        ],\n        \"semantic_type\": \"\",\n        \"description\": \"\"\n      }\n    },\n    {\n      \"column\": \"Released_Year\",\n      \"properties\": {\n        \"dtype\": \"category\",\n        \"num_unique_values\": 100,\n        \"samples\": [\n          \"1934\",\n          \"1992\",\n          \"1989\"\n        ],\n        \"semantic_type\": \"\",\n        \"description\": \"\"\n      }\n    },\n    {\n      \"column\": \"Certificate\",\n      \"properties\": {\n        \"dtype\": \"category\",\n        \"num_unique_values\": 16,\n        \"samples\": [\n          \"A\",\n          \"UA\",\n          \"PG\"\n        ],\n        \"semantic_type\": \"\",\n        \"description\": \"\"\n      }\n    },\n    {\n      \"column\": \"Runtime\",\n      \"properties\": {\n        \"dtype\": \"category\",\n        \"num_unique_values\": 140,\n        \"samples\": [\n          \"205 min\",\n          \"129 min\",\n          \"112 min\"\n        ],\n        \"semantic_type\": \"\",\n        \"description\": \"\"\n      }\n    },\n    {\n      \"column\": \"Genre\",\n      \"properties\": {\n        \"dtype\": \"category\",\n        \"num_unique_values\": 202,\n        \"samples\": [\n          \"Comedy, Drama, Fantasy\",\n          \"Crime, Drama, Fantasy\",\n          \"Drama, Romance, War\"\n        ],\n        \"semantic_type\": \"\",\n        \"description\": \"\"\n      }\n    },\n    {\n      \"column\": \"IMDB_Rating\",\n      \"properties\": {\n        \"dtype\": \"number\",\n        \"std\": 0.2754912074920095,\n        \"min\": 7.6,\n        \"max\": 9.3,\n        \"num_unique_values\": 17,\n        \"samples\": [\n          9.3,\n          9.2,\n          8.7\n        ],\n        \"semantic_type\": \"\",\n        \"description\": \"\"\n      }\n    },\n    {\n      \"column\": \"Overview\",\n      \"properties\": {\n        \"dtype\": \"string\",\n        \"num_unique_values\": 1000,\n        \"samples\": [\n          \"A woman struggles to find a way to live her life after the death of her husband and child.\",\n          \"As Steve Rogers struggles to embrace his role in the modern world, he teams up with a fellow Avenger and S.H.I.E.L.D agent, Black Widow, to battle a new threat from history: an assassin known as the Winter Soldier.\",\n          \"A video game villain wants to be a hero and sets out to fulfill his dream, but his quest brings havoc to the whole arcade where he lives.\"\n        ],\n        \"semantic_type\": \"\",\n        \"description\": \"\"\n      }\n    },\n    {\n      \"column\": \"Meta_score\",\n      \"properties\": {\n        \"dtype\": \"number\",\n        \"std\": 12.376099328602027,\n        \"min\": 28.0,\n        \"max\": 100.0,\n        \"num_unique_values\": 63,\n        \"samples\": [\n          30.0,\n          52.0,\n          80.0\n        ],\n        \"semantic_type\": \"\",\n        \"description\": \"\"\n      }\n    },\n    {\n      \"column\": \"Director\",\n      \"properties\": {\n        \"dtype\": \"string\",\n        \"num_unique_values\": 548,\n        \"samples\": [\n          \"Satoshi Kon\",\n          \"David Lean\",\n          \"Yilmaz Erdogan\"\n        ],\n        \"semantic_type\": \"\",\n        \"description\": \"\"\n      }\n    },\n    {\n      \"column\": \"Star1\",\n      \"properties\": {\n        \"dtype\": \"string\",\n        \"num_unique_values\": 660,\n        \"samples\": [\n          \"Peter Dinklage\",\n          \"Josh O'Connor\",\n          \"Terry Jones\"\n        ],\n        \"semantic_type\": \"\",\n        \"description\": \"\"\n      }\n    },\n    {\n      \"column\": \"Star2\",\n      \"properties\": {\n        \"dtype\": \"string\",\n        \"num_unique_values\": 841,\n        \"samples\": [\n          \"Ruy Guerra\",\n          \"Meg Ryan\",\n          \"Donna Reed\"\n        ],\n        \"semantic_type\": \"\",\n        \"description\": \"\"\n      }\n    },\n    {\n      \"column\": \"Star3\",\n      \"properties\": {\n        \"dtype\": \"string\",\n        \"num_unique_values\": 891,\n        \"samples\": [\n          \"Giovanni Ribisi\",\n          \"Julia Greer\",\n          \"Naomi Watts\"\n        ],\n        \"semantic_type\": \"\",\n        \"description\": \"\"\n      }\n    },\n    {\n      \"column\": \"Star4\",\n      \"properties\": {\n        \"dtype\": \"string\",\n        \"num_unique_values\": 939,\n        \"samples\": [\n          \"Trevor Howard\",\n          \"Ulrich Tukur\",\n          \"Hemendra Dandotiya\"\n        ],\n        \"semantic_type\": \"\",\n        \"description\": \"\"\n      }\n    },\n    {\n      \"column\": \"No_of_Votes\",\n      \"properties\": {\n        \"dtype\": \"number\",\n        \"std\": 327372,\n        \"min\": 25088,\n        \"max\": 2343110,\n        \"num_unique_values\": 999,\n        \"samples\": [\n          42725,\n          31957,\n          707630\n        ],\n        \"semantic_type\": \"\",\n        \"description\": \"\"\n      }\n    },\n    {\n      \"column\": \"Gross\",\n      \"properties\": {\n        \"dtype\": \"string\",\n        \"num_unique_values\": 823,\n        \"samples\": [\n          \"132,092,958\",\n          \"67,209,615\",\n          \"78,900,000\"\n        ],\n        \"semantic_type\": \"\",\n        \"description\": \"\"\n      }\n    }\n  ]\n}"
            }
          },
          "metadata": {},
          "execution_count": 5
        }
      ]
    },
    {
      "cell_type": "code",
      "source": [
        "df.shape # observamos que tiene 1000 registros y 16 columnas (o features)"
      ],
      "metadata": {
        "colab": {
          "base_uri": "https://localhost:8080/"
        },
        "id": "X_n2-eSYYKTk",
        "outputId": "d0964410-decd-4f5b-ce91-6defd059f104"
      },
      "execution_count": 6,
      "outputs": [
        {
          "output_type": "execute_result",
          "data": {
            "text/plain": [
              "(1000, 16)"
            ]
          },
          "metadata": {},
          "execution_count": 6
        }
      ]
    },
    {
      "cell_type": "code",
      "source": [
        "df.info()"
      ],
      "metadata": {
        "colab": {
          "base_uri": "https://localhost:8080/"
        },
        "id": "l-fi1rauYPLu",
        "outputId": "ff242c24-4cf2-424e-ec13-09d49523b4a9"
      },
      "execution_count": 7,
      "outputs": [
        {
          "output_type": "stream",
          "name": "stdout",
          "text": [
            "<class 'pandas.core.frame.DataFrame'>\n",
            "RangeIndex: 1000 entries, 0 to 999\n",
            "Data columns (total 16 columns):\n",
            " #   Column         Non-Null Count  Dtype  \n",
            "---  ------         --------------  -----  \n",
            " 0   Poster_Link    1000 non-null   object \n",
            " 1   Series_Title   1000 non-null   object \n",
            " 2   Released_Year  1000 non-null   object \n",
            " 3   Certificate    899 non-null    object \n",
            " 4   Runtime        1000 non-null   object \n",
            " 5   Genre          1000 non-null   object \n",
            " 6   IMDB_Rating    1000 non-null   float64\n",
            " 7   Overview       1000 non-null   object \n",
            " 8   Meta_score     843 non-null    float64\n",
            " 9   Director       1000 non-null   object \n",
            " 10  Star1          1000 non-null   object \n",
            " 11  Star2          1000 non-null   object \n",
            " 12  Star3          1000 non-null   object \n",
            " 13  Star4          1000 non-null   object \n",
            " 14  No_of_Votes    1000 non-null   int64  \n",
            " 15  Gross          831 non-null    object \n",
            "dtypes: float64(2), int64(1), object(13)\n",
            "memory usage: 125.1+ KB\n"
          ]
        }
      ]
    },
    {
      "cell_type": "markdown",
      "source": [
        "Se observa que las columnas de texto son:\n",
        "- Poster_Link (texto)\n",
        "- Series_Title (texto, se puede considerar id único)\n",
        "- Overview (puede ser util para NLP)\n",
        "\n",
        "Las columnas con categorías:\n",
        "- Released_Year\n",
        "- Certificate\n",
        "- Genre (puede contener múltiples géneros separados por comma)\n",
        "- Director (se considerará como categórica)\n",
        "- Star1 a Star4 (se considerarán como categóricas)\n",
        "\n",
        "\n",
        "Las columnas con datos numéricas son:\n",
        "- Runtime (requiere preprocesamiento, porque inicialmente es texto)\n",
        "- IMBD_Rating\n",
        "- Meta_score\n",
        "- No_of_Votes\n",
        "- Gross (requiere preprocesamiento porque está como texto separando miles con coma)\n",
        "\n",
        "\n"
      ],
      "metadata": {
        "id": "r0b7NmXzYnWP"
      }
    },
    {
      "cell_type": "code",
      "source": [
        "# observamos porcentaje de valores faltantes\n",
        "df.isna().mean()*100"
      ],
      "metadata": {
        "id": "tM39UuGFXk_L",
        "colab": {
          "base_uri": "https://localhost:8080/"
        },
        "outputId": "42e0a17a-b41b-4675-b0f4-288d919c3511"
      },
      "execution_count": 8,
      "outputs": [
        {
          "output_type": "execute_result",
          "data": {
            "text/plain": [
              "Poster_Link       0.0\n",
              "Series_Title      0.0\n",
              "Released_Year     0.0\n",
              "Certificate      10.1\n",
              "Runtime           0.0\n",
              "Genre             0.0\n",
              "IMDB_Rating       0.0\n",
              "Overview          0.0\n",
              "Meta_score       15.7\n",
              "Director          0.0\n",
              "Star1             0.0\n",
              "Star2             0.0\n",
              "Star3             0.0\n",
              "Star4             0.0\n",
              "No_of_Votes       0.0\n",
              "Gross            16.9\n",
              "dtype: float64"
            ]
          },
          "metadata": {},
          "execution_count": 8
        }
      ]
    },
    {
      "cell_type": "markdown",
      "source": [
        "Se observa que existen datos faltantes en Certificate Meta_score y Gross (ganancias de la película). Hemos decidido inicialmente no hacer imputación de datos y no utilizar las columnas Certificate, Meta_score. Sin embargo conservaremos Gross pues creemos que puede aportar un gran valor informativo de los gustos de las personas."
      ],
      "metadata": {
        "id": "a-96stbMpv3r"
      }
    },
    {
      "cell_type": "markdown",
      "source": [
        "### Preprocesamiento"
      ],
      "metadata": {
        "id": "1FgDuj_vwSFZ"
      }
    },
    {
      "cell_type": "code",
      "source": [
        "import re\n",
        "\n",
        "# Convertiremos gross de texto a cantidad numérica flotante\n",
        "df['Gross'] = df['Gross'].str.replace(',','').astype('float64')\n",
        "\n",
        "# Convertimos runtime de texto a cantidad numérica entera representando minutos\n",
        "df['Runtime'] = df['Runtime'].apply(lambda x: int(re.sub(r'\\w*min$', '', x)))\n",
        "\n"
      ],
      "metadata": {
        "id": "RdzYfGpAMDTj"
      },
      "execution_count": 9,
      "outputs": []
    },
    {
      "cell_type": "markdown",
      "source": [
        "### Análisis de variables numéricas"
      ],
      "metadata": {
        "id": "xrxYfLlkw8U0"
      }
    },
    {
      "cell_type": "code",
      "source": [
        "# obtenemos estadísticos descriptivos de las variables numéricas\n",
        "num_columns = [\n",
        "    'Runtime',\n",
        "    'IMDB_Rating',\n",
        "    'Meta_score',\n",
        "    'No_of_Votes',\n",
        "    'Gross'\n",
        "]\n",
        "\n",
        "df[num_columns].describe()"
      ],
      "metadata": {
        "colab": {
          "base_uri": "https://localhost:8080/",
          "height": 300
        },
        "id": "fe6RDnTzxU1b",
        "outputId": "8a0a166a-ff19-4b4a-8f87-87d15612f878"
      },
      "execution_count": 10,
      "outputs": [
        {
          "output_type": "execute_result",
          "data": {
            "text/plain": [
              "           Runtime  IMDB_Rating  Meta_score   No_of_Votes         Gross\n",
              "count  1000.000000  1000.000000  843.000000  1.000000e+03  8.310000e+02\n",
              "mean    122.891000     7.949300   77.971530  2.736929e+05  6.803475e+07\n",
              "std      28.093671     0.275491   12.376099  3.273727e+05  1.097500e+08\n",
              "min      45.000000     7.600000   28.000000  2.508800e+04  1.305000e+03\n",
              "25%     103.000000     7.700000   70.000000  5.552625e+04  3.253559e+06\n",
              "50%     119.000000     7.900000   79.000000  1.385485e+05  2.353089e+07\n",
              "75%     137.000000     8.100000   87.000000  3.741612e+05  8.075089e+07\n",
              "max     321.000000     9.300000  100.000000  2.343110e+06  9.366622e+08"
            ],
            "text/html": [
              "\n",
              "  <div id=\"df-baf41914-7cc4-45b0-a0ce-dcb25c2e6965\" class=\"colab-df-container\">\n",
              "    <div>\n",
              "<style scoped>\n",
              "    .dataframe tbody tr th:only-of-type {\n",
              "        vertical-align: middle;\n",
              "    }\n",
              "\n",
              "    .dataframe tbody tr th {\n",
              "        vertical-align: top;\n",
              "    }\n",
              "\n",
              "    .dataframe thead th {\n",
              "        text-align: right;\n",
              "    }\n",
              "</style>\n",
              "<table border=\"1\" class=\"dataframe\">\n",
              "  <thead>\n",
              "    <tr style=\"text-align: right;\">\n",
              "      <th></th>\n",
              "      <th>Runtime</th>\n",
              "      <th>IMDB_Rating</th>\n",
              "      <th>Meta_score</th>\n",
              "      <th>No_of_Votes</th>\n",
              "      <th>Gross</th>\n",
              "    </tr>\n",
              "  </thead>\n",
              "  <tbody>\n",
              "    <tr>\n",
              "      <th>count</th>\n",
              "      <td>1000.000000</td>\n",
              "      <td>1000.000000</td>\n",
              "      <td>843.000000</td>\n",
              "      <td>1.000000e+03</td>\n",
              "      <td>8.310000e+02</td>\n",
              "    </tr>\n",
              "    <tr>\n",
              "      <th>mean</th>\n",
              "      <td>122.891000</td>\n",
              "      <td>7.949300</td>\n",
              "      <td>77.971530</td>\n",
              "      <td>2.736929e+05</td>\n",
              "      <td>6.803475e+07</td>\n",
              "    </tr>\n",
              "    <tr>\n",
              "      <th>std</th>\n",
              "      <td>28.093671</td>\n",
              "      <td>0.275491</td>\n",
              "      <td>12.376099</td>\n",
              "      <td>3.273727e+05</td>\n",
              "      <td>1.097500e+08</td>\n",
              "    </tr>\n",
              "    <tr>\n",
              "      <th>min</th>\n",
              "      <td>45.000000</td>\n",
              "      <td>7.600000</td>\n",
              "      <td>28.000000</td>\n",
              "      <td>2.508800e+04</td>\n",
              "      <td>1.305000e+03</td>\n",
              "    </tr>\n",
              "    <tr>\n",
              "      <th>25%</th>\n",
              "      <td>103.000000</td>\n",
              "      <td>7.700000</td>\n",
              "      <td>70.000000</td>\n",
              "      <td>5.552625e+04</td>\n",
              "      <td>3.253559e+06</td>\n",
              "    </tr>\n",
              "    <tr>\n",
              "      <th>50%</th>\n",
              "      <td>119.000000</td>\n",
              "      <td>7.900000</td>\n",
              "      <td>79.000000</td>\n",
              "      <td>1.385485e+05</td>\n",
              "      <td>2.353089e+07</td>\n",
              "    </tr>\n",
              "    <tr>\n",
              "      <th>75%</th>\n",
              "      <td>137.000000</td>\n",
              "      <td>8.100000</td>\n",
              "      <td>87.000000</td>\n",
              "      <td>3.741612e+05</td>\n",
              "      <td>8.075089e+07</td>\n",
              "    </tr>\n",
              "    <tr>\n",
              "      <th>max</th>\n",
              "      <td>321.000000</td>\n",
              "      <td>9.300000</td>\n",
              "      <td>100.000000</td>\n",
              "      <td>2.343110e+06</td>\n",
              "      <td>9.366622e+08</td>\n",
              "    </tr>\n",
              "  </tbody>\n",
              "</table>\n",
              "</div>\n",
              "    <div class=\"colab-df-buttons\">\n",
              "\n",
              "  <div class=\"colab-df-container\">\n",
              "    <button class=\"colab-df-convert\" onclick=\"convertToInteractive('df-baf41914-7cc4-45b0-a0ce-dcb25c2e6965')\"\n",
              "            title=\"Convert this dataframe to an interactive table.\"\n",
              "            style=\"display:none;\">\n",
              "\n",
              "  <svg xmlns=\"http://www.w3.org/2000/svg\" height=\"24px\" viewBox=\"0 -960 960 960\">\n",
              "    <path d=\"M120-120v-720h720v720H120Zm60-500h600v-160H180v160Zm220 220h160v-160H400v160Zm0 220h160v-160H400v160ZM180-400h160v-160H180v160Zm440 0h160v-160H620v160ZM180-180h160v-160H180v160Zm440 0h160v-160H620v160Z\"/>\n",
              "  </svg>\n",
              "    </button>\n",
              "\n",
              "  <style>\n",
              "    .colab-df-container {\n",
              "      display:flex;\n",
              "      gap: 12px;\n",
              "    }\n",
              "\n",
              "    .colab-df-convert {\n",
              "      background-color: #E8F0FE;\n",
              "      border: none;\n",
              "      border-radius: 50%;\n",
              "      cursor: pointer;\n",
              "      display: none;\n",
              "      fill: #1967D2;\n",
              "      height: 32px;\n",
              "      padding: 0 0 0 0;\n",
              "      width: 32px;\n",
              "    }\n",
              "\n",
              "    .colab-df-convert:hover {\n",
              "      background-color: #E2EBFA;\n",
              "      box-shadow: 0px 1px 2px rgba(60, 64, 67, 0.3), 0px 1px 3px 1px rgba(60, 64, 67, 0.15);\n",
              "      fill: #174EA6;\n",
              "    }\n",
              "\n",
              "    .colab-df-buttons div {\n",
              "      margin-bottom: 4px;\n",
              "    }\n",
              "\n",
              "    [theme=dark] .colab-df-convert {\n",
              "      background-color: #3B4455;\n",
              "      fill: #D2E3FC;\n",
              "    }\n",
              "\n",
              "    [theme=dark] .colab-df-convert:hover {\n",
              "      background-color: #434B5C;\n",
              "      box-shadow: 0px 1px 3px 1px rgba(0, 0, 0, 0.15);\n",
              "      filter: drop-shadow(0px 1px 2px rgba(0, 0, 0, 0.3));\n",
              "      fill: #FFFFFF;\n",
              "    }\n",
              "  </style>\n",
              "\n",
              "    <script>\n",
              "      const buttonEl =\n",
              "        document.querySelector('#df-baf41914-7cc4-45b0-a0ce-dcb25c2e6965 button.colab-df-convert');\n",
              "      buttonEl.style.display =\n",
              "        google.colab.kernel.accessAllowed ? 'block' : 'none';\n",
              "\n",
              "      async function convertToInteractive(key) {\n",
              "        const element = document.querySelector('#df-baf41914-7cc4-45b0-a0ce-dcb25c2e6965');\n",
              "        const dataTable =\n",
              "          await google.colab.kernel.invokeFunction('convertToInteractive',\n",
              "                                                    [key], {});\n",
              "        if (!dataTable) return;\n",
              "\n",
              "        const docLinkHtml = 'Like what you see? Visit the ' +\n",
              "          '<a target=\"_blank\" href=https://colab.research.google.com/notebooks/data_table.ipynb>data table notebook</a>'\n",
              "          + ' to learn more about interactive tables.';\n",
              "        element.innerHTML = '';\n",
              "        dataTable['output_type'] = 'display_data';\n",
              "        await google.colab.output.renderOutput(dataTable, element);\n",
              "        const docLink = document.createElement('div');\n",
              "        docLink.innerHTML = docLinkHtml;\n",
              "        element.appendChild(docLink);\n",
              "      }\n",
              "    </script>\n",
              "  </div>\n",
              "\n",
              "\n",
              "<div id=\"df-32ee3767-c1d9-405c-b327-3897e19bcccd\">\n",
              "  <button class=\"colab-df-quickchart\" onclick=\"quickchart('df-32ee3767-c1d9-405c-b327-3897e19bcccd')\"\n",
              "            title=\"Suggest charts\"\n",
              "            style=\"display:none;\">\n",
              "\n",
              "<svg xmlns=\"http://www.w3.org/2000/svg\" height=\"24px\"viewBox=\"0 0 24 24\"\n",
              "     width=\"24px\">\n",
              "    <g>\n",
              "        <path d=\"M19 3H5c-1.1 0-2 .9-2 2v14c0 1.1.9 2 2 2h14c1.1 0 2-.9 2-2V5c0-1.1-.9-2-2-2zM9 17H7v-7h2v7zm4 0h-2V7h2v10zm4 0h-2v-4h2v4z\"/>\n",
              "    </g>\n",
              "</svg>\n",
              "  </button>\n",
              "\n",
              "<style>\n",
              "  .colab-df-quickchart {\n",
              "      --bg-color: #E8F0FE;\n",
              "      --fill-color: #1967D2;\n",
              "      --hover-bg-color: #E2EBFA;\n",
              "      --hover-fill-color: #174EA6;\n",
              "      --disabled-fill-color: #AAA;\n",
              "      --disabled-bg-color: #DDD;\n",
              "  }\n",
              "\n",
              "  [theme=dark] .colab-df-quickchart {\n",
              "      --bg-color: #3B4455;\n",
              "      --fill-color: #D2E3FC;\n",
              "      --hover-bg-color: #434B5C;\n",
              "      --hover-fill-color: #FFFFFF;\n",
              "      --disabled-bg-color: #3B4455;\n",
              "      --disabled-fill-color: #666;\n",
              "  }\n",
              "\n",
              "  .colab-df-quickchart {\n",
              "    background-color: var(--bg-color);\n",
              "    border: none;\n",
              "    border-radius: 50%;\n",
              "    cursor: pointer;\n",
              "    display: none;\n",
              "    fill: var(--fill-color);\n",
              "    height: 32px;\n",
              "    padding: 0;\n",
              "    width: 32px;\n",
              "  }\n",
              "\n",
              "  .colab-df-quickchart:hover {\n",
              "    background-color: var(--hover-bg-color);\n",
              "    box-shadow: 0 1px 2px rgba(60, 64, 67, 0.3), 0 1px 3px 1px rgba(60, 64, 67, 0.15);\n",
              "    fill: var(--button-hover-fill-color);\n",
              "  }\n",
              "\n",
              "  .colab-df-quickchart-complete:disabled,\n",
              "  .colab-df-quickchart-complete:disabled:hover {\n",
              "    background-color: var(--disabled-bg-color);\n",
              "    fill: var(--disabled-fill-color);\n",
              "    box-shadow: none;\n",
              "  }\n",
              "\n",
              "  .colab-df-spinner {\n",
              "    border: 2px solid var(--fill-color);\n",
              "    border-color: transparent;\n",
              "    border-bottom-color: var(--fill-color);\n",
              "    animation:\n",
              "      spin 1s steps(1) infinite;\n",
              "  }\n",
              "\n",
              "  @keyframes spin {\n",
              "    0% {\n",
              "      border-color: transparent;\n",
              "      border-bottom-color: var(--fill-color);\n",
              "      border-left-color: var(--fill-color);\n",
              "    }\n",
              "    20% {\n",
              "      border-color: transparent;\n",
              "      border-left-color: var(--fill-color);\n",
              "      border-top-color: var(--fill-color);\n",
              "    }\n",
              "    30% {\n",
              "      border-color: transparent;\n",
              "      border-left-color: var(--fill-color);\n",
              "      border-top-color: var(--fill-color);\n",
              "      border-right-color: var(--fill-color);\n",
              "    }\n",
              "    40% {\n",
              "      border-color: transparent;\n",
              "      border-right-color: var(--fill-color);\n",
              "      border-top-color: var(--fill-color);\n",
              "    }\n",
              "    60% {\n",
              "      border-color: transparent;\n",
              "      border-right-color: var(--fill-color);\n",
              "    }\n",
              "    80% {\n",
              "      border-color: transparent;\n",
              "      border-right-color: var(--fill-color);\n",
              "      border-bottom-color: var(--fill-color);\n",
              "    }\n",
              "    90% {\n",
              "      border-color: transparent;\n",
              "      border-bottom-color: var(--fill-color);\n",
              "    }\n",
              "  }\n",
              "</style>\n",
              "\n",
              "  <script>\n",
              "    async function quickchart(key) {\n",
              "      const quickchartButtonEl =\n",
              "        document.querySelector('#' + key + ' button');\n",
              "      quickchartButtonEl.disabled = true;  // To prevent multiple clicks.\n",
              "      quickchartButtonEl.classList.add('colab-df-spinner');\n",
              "      try {\n",
              "        const charts = await google.colab.kernel.invokeFunction(\n",
              "            'suggestCharts', [key], {});\n",
              "      } catch (error) {\n",
              "        console.error('Error during call to suggestCharts:', error);\n",
              "      }\n",
              "      quickchartButtonEl.classList.remove('colab-df-spinner');\n",
              "      quickchartButtonEl.classList.add('colab-df-quickchart-complete');\n",
              "    }\n",
              "    (() => {\n",
              "      let quickchartButtonEl =\n",
              "        document.querySelector('#df-32ee3767-c1d9-405c-b327-3897e19bcccd button');\n",
              "      quickchartButtonEl.style.display =\n",
              "        google.colab.kernel.accessAllowed ? 'block' : 'none';\n",
              "    })();\n",
              "  </script>\n",
              "</div>\n",
              "    </div>\n",
              "  </div>\n"
            ],
            "application/vnd.google.colaboratory.intrinsic+json": {
              "type": "dataframe",
              "summary": "{\n  \"name\": \"df[num_columns]\",\n  \"rows\": 8,\n  \"fields\": [\n    {\n      \"column\": \"Runtime\",\n      \"properties\": {\n        \"dtype\": \"number\",\n        \"std\": 321.7322847455279,\n        \"min\": 28.09367141142954,\n        \"max\": 1000.0,\n        \"num_unique_values\": 8,\n        \"samples\": [\n          122.891,\n          119.0,\n          1000.0\n        ],\n        \"semantic_type\": \"\",\n        \"description\": \"\"\n      }\n    },\n    {\n      \"column\": \"IMDB_Rating\",\n      \"properties\": {\n        \"dtype\": \"number\",\n        \"std\": 351.0984084543952,\n        \"min\": 0.2754912074920095,\n        \"max\": 1000.0,\n        \"num_unique_values\": 8,\n        \"samples\": [\n          7.949299999999999,\n          7.9,\n          1000.0\n        ],\n        \"semantic_type\": \"\",\n        \"description\": \"\"\n      }\n    },\n    {\n      \"column\": \"Meta_score\",\n      \"properties\": {\n        \"dtype\": \"number\",\n        \"std\": 276.71203917420195,\n        \"min\": 12.376099328602027,\n        \"max\": 843.0,\n        \"num_unique_values\": 8,\n        \"samples\": [\n          77.97153024911032,\n          79.0,\n          843.0\n        ],\n        \"semantic_type\": \"\",\n        \"description\": \"\"\n      }\n    },\n    {\n      \"column\": \"No_of_Votes\",\n      \"properties\": {\n        \"dtype\": \"number\",\n        \"std\": 781027.585788524,\n        \"min\": 1000.0,\n        \"max\": 2343110.0,\n        \"num_unique_values\": 8,\n        \"samples\": [\n          273692.911,\n          138548.5,\n          1000.0\n        ],\n        \"semantic_type\": \"\",\n        \"description\": \"\"\n      }\n    },\n    {\n      \"column\": \"Gross\",\n      \"properties\": {\n        \"dtype\": \"number\",\n        \"std\": 319472590.7602819,\n        \"min\": 831.0,\n        \"max\": 936662225.0,\n        \"num_unique_values\": 8,\n        \"samples\": [\n          68034750.87364621,\n          23530892.0,\n          831.0\n        ],\n        \"semantic_type\": \"\",\n        \"description\": \"\"\n      }\n    }\n  ]\n}"
            }
          },
          "metadata": {},
          "execution_count": 10
        }
      ]
    },
    {
      "cell_type": "code",
      "source": [
        "\n",
        "def make_hist_plots(df, column_names, bins=10):\n",
        "  plt.figure(figsize=(10,6), constrained_layout=True)\n",
        "  for idx,column_name in enumerate(column_names):\n",
        "    ax = plt.subplot(2,3,idx+1)\n",
        "    df[column_name].hist(bins=bins)\n",
        "    ax.set_title(column_name)\n",
        "  plt.show()\n",
        "\n",
        "make_hist_plots(df, num_columns, 10)\n",
        "\n"
      ],
      "metadata": {
        "id": "xMTuL7WXXkiP",
        "colab": {
          "base_uri": "https://localhost:8080/",
          "height": 628
        },
        "outputId": "455061f8-1314-4661-a12e-86ad53d9c316"
      },
      "execution_count": 11,
      "outputs": [
        {
          "output_type": "display_data",
          "data": {
            "text/plain": [
              "<Figure size 1000x600 with 5 Axes>"
            ],
            "image/png": "[encoded data removed]"
          },
          "metadata": {}
        }
      ]
    },
    {
      "cell_type": "markdown",
      "source": [
        "Se observa de los histogramas lo siguiente:\n",
        "- Runtime está sesgado a la derecha, la mayoría de las películas duran alredeodr de 100 minutos.\n",
        "- IMDB_Rating se encuentra sesgado a la derecha.\n",
        "- Meta_score tiene un sesgo a la izquierda aunque en menor grado, se observa más normal.\n",
        "- No_of_Votes se observa con un claro sesgo a la derecha al igual que el volumen de ventas generado (Gross)"
      ],
      "metadata": {
        "id": "QjHXcp-UxtJu"
      }
    },
    {
      "cell_type": "markdown",
      "source": [
        "### Análisis de variables categóricas"
      ],
      "metadata": {
        "id": "bB2Wxlvo1GH8"
      }
    },
    {
      "cell_type": "code",
      "source": [
        "'''\n",
        "Veamos ahora la cuenta, número de valores únicos, la moda de las variables\n",
        "categóricas. Recordemos que no se consideran las siguietnes variables aunque sean\n",
        "texto:\n",
        "- Poster_Link: pues es único en cada caso, similar a un identificador.\n",
        "- Series_Title: de igual forma es único y es un identificador.\n",
        "- Overview: es texto plano, puede ser útil para NLP.\n",
        "\n",
        "Consideraremos:\n",
        "- Released_Year\n",
        "- Certificate\n",
        "- Genre\n",
        "- Director\n",
        "- Star1 a Star4: protagonistas\n",
        "'''\n",
        "\n",
        "\n",
        "categorical_columns = [\n",
        "    'Released_Year',\n",
        "    'Certificate',\n",
        "    'Genre',\n",
        "    'Director',\n",
        "    'Star1',\n",
        "    'Star2',\n",
        "    'Star3',\n",
        "    'Star4',\n",
        "]\n",
        "\n",
        "df[categorical_columns].describe()"
      ],
      "metadata": {
        "id": "QJzWlgiti3hd",
        "colab": {
          "base_uri": "https://localhost:8080/",
          "height": 174
        },
        "outputId": "8beef1d5-6117-49eb-883d-2772ad18f855"
      },
      "execution_count": 12,
      "outputs": [
        {
          "output_type": "execute_result",
          "data": {
            "text/plain": [
              "       Released_Year Certificate  Genre          Director      Star1  \\\n",
              "count           1000         899   1000              1000       1000   \n",
              "unique           100          16    202               548        660   \n",
              "top             2014           U  Drama  Alfred Hitchcock  Tom Hanks   \n",
              "freq              32         234     85                14         12   \n",
              "\n",
              "              Star2         Star3          Star4  \n",
              "count          1000          1000           1000  \n",
              "unique          841           891            939  \n",
              "top     Emma Watson  Rupert Grint  Michael Caine  \n",
              "freq              7             5              4  "
            ],
            "text/html": [
              "\n",
              "  <div id=\"df-8a992527-bc81-48f2-ba29-d91480789d68\" class=\"colab-df-container\">\n",
              "    <div>\n",
              "<style scoped>\n",
              "    .dataframe tbody tr th:only-of-type {\n",
              "        vertical-align: middle;\n",
              "    }\n",
              "\n",
              "    .dataframe tbody tr th {\n",
              "        vertical-align: top;\n",
              "    }\n",
              "\n",
              "    .dataframe thead th {\n",
              "        text-align: right;\n",
              "    }\n",
              "</style>\n",
              "<table border=\"1\" class=\"dataframe\">\n",
              "  <thead>\n",
              "    <tr style=\"text-align: right;\">\n",
              "      <th></th>\n",
              "      <th>Released_Year</th>\n",
              "      <th>Certificate</th>\n",
              "      <th>Genre</th>\n",
              "      <th>Director</th>\n",
              "      <th>Star1</th>\n",
              "      <th>Star2</th>\n",
              "      <th>Star3</th>\n",
              "      <th>Star4</th>\n",
              "    </tr>\n",
              "  </thead>\n",
              "  <tbody>\n",
              "    <tr>\n",
              "      <th>count</th>\n",
              "      <td>1000</td>\n",
              "      <td>899</td>\n",
              "      <td>1000</td>\n",
              "      <td>1000</td>\n",
              "      <td>1000</td>\n",
              "      <td>1000</td>\n",
              "      <td>1000</td>\n",
              "      <td>1000</td>\n",
              "    </tr>\n",
              "    <tr>\n",
              "      <th>unique</th>\n",
              "      <td>100</td>\n",
              "      <td>16</td>\n",
              "      <td>202</td>\n",
              "      <td>548</td>\n",
              "      <td>660</td>\n",
              "      <td>841</td>\n",
              "      <td>891</td>\n",
              "      <td>939</td>\n",
              "    </tr>\n",
              "    <tr>\n",
              "      <th>top</th>\n",
              "      <td>2014</td>\n",
              "      <td>U</td>\n",
              "      <td>Drama</td>\n",
              "      <td>Alfred Hitchcock</td>\n",
              "      <td>Tom Hanks</td>\n",
              "      <td>Emma Watson</td>\n",
              "      <td>Rupert Grint</td>\n",
              "      <td>Michael Caine</td>\n",
              "    </tr>\n",
              "    <tr>\n",
              "      <th>freq</th>\n",
              "      <td>32</td>\n",
              "      <td>234</td>\n",
              "      <td>85</td>\n",
              "      <td>14</td>\n",
              "      <td>12</td>\n",
              "      <td>7</td>\n",
              "      <td>5</td>\n",
              "      <td>4</td>\n",
              "    </tr>\n",
              "  </tbody>\n",
              "</table>\n",
              "</div>\n",
              "    <div class=\"colab-df-buttons\">\n",
              "\n",
              "  <div class=\"colab-df-container\">\n",
              "    <button class=\"colab-df-convert\" onclick=\"convertToInteractive('df-8a992527-bc81-48f2-ba29-d91480789d68')\"\n",
              "            title=\"Convert this dataframe to an interactive table.\"\n",
              "            style=\"display:none;\">\n",
              "\n",
              "  <svg xmlns=\"http://www.w3.org/2000/svg\" height=\"24px\" viewBox=\"0 -960 960 960\">\n",
              "    <path d=\"M120-120v-720h720v720H120Zm60-500h600v-160H180v160Zm220 220h160v-160H400v160Zm0 220h160v-160H400v160ZM180-400h160v-160H180v160Zm440 0h160v-160H620v160ZM180-180h160v-160H180v160Zm440 0h160v-160H620v160Z\"/>\n",
              "  </svg>\n",
              "    </button>\n",
              "\n",
              "  <style>\n",
              "    .colab-df-container {\n",
              "      display:flex;\n",
              "      gap: 12px;\n",
              "    }\n",
              "\n",
              "    .colab-df-convert {\n",
              "      background-color: #E8F0FE;\n",
              "      border: none;\n",
              "      border-radius: 50%;\n",
              "      cursor: pointer;\n",
              "      display: none;\n",
              "      fill: #1967D2;\n",
              "      height: 32px;\n",
              "      padding: 0 0 0 0;\n",
              "      width: 32px;\n",
              "    }\n",
              "\n",
              "    .colab-df-convert:hover {\n",
              "      background-color: #E2EBFA;\n",
              "      box-shadow: 0px 1px 2px rgba(60, 64, 67, 0.3), 0px 1px 3px 1px rgba(60, 64, 67, 0.15);\n",
              "      fill: #174EA6;\n",
              "    }\n",
              "\n",
              "    .colab-df-buttons div {\n",
              "      margin-bottom: 4px;\n",
              "    }\n",
              "\n",
              "    [theme=dark] .colab-df-convert {\n",
              "      background-color: #3B4455;\n",
              "      fill: #D2E3FC;\n",
              "    }\n",
              "\n",
              "    [theme=dark] .colab-df-convert:hover {\n",
              "      background-color: #434B5C;\n",
              "      box-shadow: 0px 1px 3px 1px rgba(0, 0, 0, 0.15);\n",
              "      filter: drop-shadow(0px 1px 2px rgba(0, 0, 0, 0.3));\n",
              "      fill: #FFFFFF;\n",
              "    }\n",
              "  </style>\n",
              "\n",
              "    <script>\n",
              "      const buttonEl =\n",
              "        document.querySelector('#df-8a992527-bc81-48f2-ba29-d91480789d68 button.colab-df-convert');\n",
              "      buttonEl.style.display =\n",
              "        google.colab.kernel.accessAllowed ? 'block' : 'none';\n",
              "\n",
              "      async function convertToInteractive(key) {\n",
              "        const element = document.querySelector('#df-8a992527-bc81-48f2-ba29-d91480789d68');\n",
              "        const dataTable =\n",
              "          await google.colab.kernel.invokeFunction('convertToInteractive',\n",
              "                                                    [key], {});\n",
              "        if (!dataTable) return;\n",
              "\n",
              "        const docLinkHtml = 'Like what you see? Visit the ' +\n",
              "          '<a target=\"_blank\" href=https://colab.research.google.com/notebooks/data_table.ipynb>data table notebook</a>'\n",
              "          + ' to learn more about interactive tables.';\n",
              "        element.innerHTML = '';\n",
              "        dataTable['output_type'] = 'display_data';\n",
              "        await google.colab.output.renderOutput(dataTable, element);\n",
              "        const docLink = document.createElement('div');\n",
              "        docLink.innerHTML = docLinkHtml;\n",
              "        element.appendChild(docLink);\n",
              "      }\n",
              "    </script>\n",
              "  </div>\n",
              "\n",
              "\n",
              "<div id=\"df-333c6e2f-4676-4c8e-a269-0ef729eb7a69\">\n",
              "  <button class=\"colab-df-quickchart\" onclick=\"quickchart('df-333c6e2f-4676-4c8e-a269-0ef729eb7a69')\"\n",
              "            title=\"Suggest charts\"\n",
              "            style=\"display:none;\">\n",
              "\n",
              "<svg xmlns=\"http://www.w3.org/2000/svg\" height=\"24px\"viewBox=\"0 0 24 24\"\n",
              "     width=\"24px\">\n",
              "    <g>\n",
              "        <path d=\"M19 3H5c-1.1 0-2 .9-2 2v14c0 1.1.9 2 2 2h14c1.1 0 2-.9 2-2V5c0-1.1-.9-2-2-2zM9 17H7v-7h2v7zm4 0h-2V7h2v10zm4 0h-2v-4h2v4z\"/>\n",
              "    </g>\n",
              "</svg>\n",
              "  </button>\n",
              "\n",
              "<style>\n",
              "  .colab-df-quickchart {\n",
              "      --bg-color: #E8F0FE;\n",
              "      --fill-color: #1967D2;\n",
              "      --hover-bg-color: #E2EBFA;\n",
              "      --hover-fill-color: #174EA6;\n",
              "      --disabled-fill-color: #AAA;\n",
              "      --disabled-bg-color: #DDD;\n",
              "  }\n",
              "\n",
              "  [theme=dark] .colab-df-quickchart {\n",
              "      --bg-color: #3B4455;\n",
              "      --fill-color: #D2E3FC;\n",
              "      --hover-bg-color: #434B5C;\n",
              "      --hover-fill-color: #FFFFFF;\n",
              "      --disabled-bg-color: #3B4455;\n",
              "      --disabled-fill-color: #666;\n",
              "  }\n",
              "\n",
              "  .colab-df-quickchart {\n",
              "    background-color: var(--bg-color);\n",
              "    border: none;\n",
              "    border-radius: 50%;\n",
              "    cursor: pointer;\n",
              "    display: none;\n",
              "    fill: var(--fill-color);\n",
              "    height: 32px;\n",
              "    padding: 0;\n",
              "    width: 32px;\n",
              "  }\n",
              "\n",
              "  .colab-df-quickchart:hover {\n",
              "    background-color: var(--hover-bg-color);\n",
              "    box-shadow: 0 1px 2px rgba(60, 64, 67, 0.3), 0 1px 3px 1px rgba(60, 64, 67, 0.15);\n",
              "    fill: var(--button-hover-fill-color);\n",
              "  }\n",
              "\n",
              "  .colab-df-quickchart-complete:disabled,\n",
              "  .colab-df-quickchart-complete:disabled:hover {\n",
              "    background-color: var(--disabled-bg-color);\n",
              "    fill: var(--disabled-fill-color);\n",
              "    box-shadow: none;\n",
              "  }\n",
              "\n",
              "  .colab-df-spinner {\n",
              "    border: 2px solid var(--fill-color);\n",
              "    border-color: transparent;\n",
              "    border-bottom-color: var(--fill-color);\n",
              "    animation:\n",
              "      spin 1s steps(1) infinite;\n",
              "  }\n",
              "\n",
              "  @keyframes spin {\n",
              "    0% {\n",
              "      border-color: transparent;\n",
              "      border-bottom-color: var(--fill-color);\n",
              "      border-left-color: var(--fill-color);\n",
              "    }\n",
              "    20% {\n",
              "      border-color: transparent;\n",
              "      border-left-color: var(--fill-color);\n",
              "      border-top-color: var(--fill-color);\n",
              "    }\n",
              "    30% {\n",
              "      border-color: transparent;\n",
              "      border-left-color: var(--fill-color);\n",
              "      border-top-color: var(--fill-color);\n",
              "      border-right-color: var(--fill-color);\n",
              "    }\n",
              "    40% {\n",
              "      border-color: transparent;\n",
              "      border-right-color: var(--fill-color);\n",
              "      border-top-color: var(--fill-color);\n",
              "    }\n",
              "    60% {\n",
              "      border-color: transparent;\n",
              "      border-right-color: var(--fill-color);\n",
              "    }\n",
              "    80% {\n",
              "      border-color: transparent;\n",
              "      border-right-color: var(--fill-color);\n",
              "      border-bottom-color: var(--fill-color);\n",
              "    }\n",
              "    90% {\n",
              "      border-color: transparent;\n",
              "      border-bottom-color: var(--fill-color);\n",
              "    }\n",
              "  }\n",
              "</style>\n",
              "\n",
              "  <script>\n",
              "    async function quickchart(key) {\n",
              "      const quickchartButtonEl =\n",
              "        document.querySelector('#' + key + ' button');\n",
              "      quickchartButtonEl.disabled = true;  // To prevent multiple clicks.\n",
              "      quickchartButtonEl.classList.add('colab-df-spinner');\n",
              "      try {\n",
              "        const charts = await google.colab.kernel.invokeFunction(\n",
              "            'suggestCharts', [key], {});\n",
              "      } catch (error) {\n",
              "        console.error('Error during call to suggestCharts:', error);\n",
              "      }\n",
              "      quickchartButtonEl.classList.remove('colab-df-spinner');\n",
              "      quickchartButtonEl.classList.add('colab-df-quickchart-complete');\n",
              "    }\n",
              "    (() => {\n",
              "      let quickchartButtonEl =\n",
              "        document.querySelector('#df-333c6e2f-4676-4c8e-a269-0ef729eb7a69 button');\n",
              "      quickchartButtonEl.style.display =\n",
              "        google.colab.kernel.accessAllowed ? 'block' : 'none';\n",
              "    })();\n",
              "  </script>\n",
              "</div>\n",
              "    </div>\n",
              "  </div>\n"
            ],
            "application/vnd.google.colaboratory.intrinsic+json": {
              "type": "dataframe",
              "summary": "{\n  \"name\": \"df[categorical_columns]\",\n  \"rows\": 4,\n  \"fields\": [\n    {\n      \"column\": \"Released_Year\",\n      \"properties\": {\n        \"dtype\": \"date\",\n        \"min\": \"1970-01-01 00:00:00.000000032\",\n        \"max\": \"2014-01-01 00:00:00\",\n        \"num_unique_values\": 4,\n        \"samples\": [\n          100,\n          \"32\",\n          \"1000\"\n        ],\n        \"semantic_type\": \"\",\n        \"description\": \"\"\n      }\n    },\n    {\n      \"column\": \"Certificate\",\n      \"properties\": {\n        \"dtype\": \"string\",\n        \"num_unique_values\": 4,\n        \"samples\": [\n          16,\n          \"234\",\n          \"899\"\n        ],\n        \"semantic_type\": \"\",\n        \"description\": \"\"\n      }\n    },\n    {\n      \"column\": \"Genre\",\n      \"properties\": {\n        \"dtype\": \"string\",\n        \"num_unique_values\": 4,\n        \"samples\": [\n          202,\n          \"85\",\n          \"1000\"\n        ],\n        \"semantic_type\": \"\",\n        \"description\": \"\"\n      }\n    },\n    {\n      \"column\": \"Director\",\n      \"properties\": {\n        \"dtype\": \"string\",\n        \"num_unique_values\": 4,\n        \"samples\": [\n          548,\n          \"14\",\n          \"1000\"\n        ],\n        \"semantic_type\": \"\",\n        \"description\": \"\"\n      }\n    },\n    {\n      \"column\": \"Star1\",\n      \"properties\": {\n        \"dtype\": \"string\",\n        \"num_unique_values\": 4,\n        \"samples\": [\n          660,\n          \"12\",\n          \"1000\"\n        ],\n        \"semantic_type\": \"\",\n        \"description\": \"\"\n      }\n    },\n    {\n      \"column\": \"Star2\",\n      \"properties\": {\n        \"dtype\": \"string\",\n        \"num_unique_values\": 4,\n        \"samples\": [\n          841,\n          \"7\",\n          \"1000\"\n        ],\n        \"semantic_type\": \"\",\n        \"description\": \"\"\n      }\n    },\n    {\n      \"column\": \"Star3\",\n      \"properties\": {\n        \"dtype\": \"string\",\n        \"num_unique_values\": 4,\n        \"samples\": [\n          891,\n          \"5\",\n          \"1000\"\n        ],\n        \"semantic_type\": \"\",\n        \"description\": \"\"\n      }\n    },\n    {\n      \"column\": \"Star4\",\n      \"properties\": {\n        \"dtype\": \"string\",\n        \"num_unique_values\": 4,\n        \"samples\": [\n          939,\n          \"4\",\n          \"1000\"\n        ],\n        \"semantic_type\": \"\",\n        \"description\": \"\"\n      }\n    }\n  ]\n}"
            }
          },
          "metadata": {},
          "execution_count": 12
        }
      ]
    },
    {
      "cell_type": "markdown",
      "source": [
        "Analizaremos el conteo de las variables categóricas: Certificate, Genre, Director y Stars1 a 4."
      ],
      "metadata": {
        "id": "4ZvlMpS6kdQN"
      }
    },
    {
      "cell_type": "code",
      "source": [
        "\n",
        "def make_count_plot(df, column_names, bins=10):\n",
        "  plt.figure(figsize=(12,6), constrained_layout=True)\n",
        "  for idx,column_name in enumerate(column_names):\n",
        "    ax = plt.subplot(2,4,idx+1)\n",
        "    cer_counts = df[column_name].value_counts().sort_values(ascending=False)\n",
        "    cer_counts.iloc[0:10].plot(kind='barh', color='skyblue')\n",
        "    ax.invert_yaxis()\n",
        "    ax.set_title(column_name)\n",
        "  plt.show()\n",
        "\n",
        "make_count_plot(df, ['Certificate', 'Director', 'Genre', 'Star1', 'Star2', 'Star3', 'Star4'])\n"
      ],
      "metadata": {
        "colab": {
          "base_uri": "https://localhost:8080/",
          "height": 531
        },
        "id": "pN8MEYWtkeNF",
        "outputId": "f0f02d7c-1ce5-436e-9b27-853bde01b888"
      },
      "execution_count": 13,
      "outputs": [
        {
          "output_type": "display_data",
          "data": {
            "text/plain": [
              "<Figure size 1200x600 with 7 Axes>"
            ],
            "image/png": "[encoded data removed]"
          },
          "metadata": {}
        }
      ]
    },
    {
      "cell_type": "code",
      "source": [
        "# revisamos ahora la frecuencia y cantidad de valores únicos\n",
        "for column_name in categorical_columns:\n",
        "  print(\"-------------------------------------------\")\n",
        "  print(df[column_name].value_counts().sort_values(ascending=False))\n",
        "  print(\"Valores únicos: \", df[column_name].nunique())"
      ],
      "metadata": {
        "colab": {
          "base_uri": "https://localhost:8080/"
        },
        "id": "xwSxoxFCPfC4",
        "outputId": "daf737e4-7de3-4f8d-bc65-8676c966828b"
      },
      "execution_count": 14,
      "outputs": [
        {
          "output_type": "stream",
          "name": "stdout",
          "text": [
            "-------------------------------------------\n",
            "Released_Year\n",
            "2014    32\n",
            "2004    31\n",
            "2009    29\n",
            "2016    28\n",
            "2013    28\n",
            "        ..\n",
            "1926     1\n",
            "1936     1\n",
            "1924     1\n",
            "1921     1\n",
            "PG       1\n",
            "Name: count, Length: 100, dtype: int64\n",
            "Valores únicos:  100\n",
            "-------------------------------------------\n",
            "Certificate\n",
            "U           234\n",
            "A           197\n",
            "UA          175\n",
            "R           146\n",
            "PG-13        43\n",
            "PG           37\n",
            "Passed       34\n",
            "G            12\n",
            "Approved     11\n",
            "TV-PG         3\n",
            "GP            2\n",
            "TV-14         1\n",
            "16            1\n",
            "TV-MA         1\n",
            "Unrated       1\n",
            "U/A           1\n",
            "Name: count, dtype: int64\n",
            "Valores únicos:  16\n",
            "-------------------------------------------\n",
            "Genre\n",
            "Drama                        85\n",
            "Drama, Romance               37\n",
            "Comedy, Drama                35\n",
            "Comedy, Drama, Romance       31\n",
            "Action, Crime, Drama         30\n",
            "                             ..\n",
            "Action, Adventure, Family     1\n",
            "Biography, Drama, Romance     1\n",
            "Adventure, History, War       1\n",
            "Drama, History, Music         1\n",
            "Adventure, Comedy, War        1\n",
            "Name: count, Length: 202, dtype: int64\n",
            "Valores únicos:  202\n",
            "-------------------------------------------\n",
            "Director\n",
            "Alfred Hitchcock    14\n",
            "Steven Spielberg    13\n",
            "Hayao Miyazaki      11\n",
            "Martin Scorsese     10\n",
            "Akira Kurosawa      10\n",
            "                    ..\n",
            "Jonathan Lynn        1\n",
            "Marc Caro            1\n",
            "David Zucker         1\n",
            "Mark Rydell          1\n",
            "George Stevens       1\n",
            "Name: count, Length: 548, dtype: int64\n",
            "Valores únicos:  548\n",
            "-------------------------------------------\n",
            "Star1\n",
            "Tom Hanks          12\n",
            "Robert De Niro     11\n",
            "Al Pacino          10\n",
            "Clint Eastwood     10\n",
            "Humphrey Bogart     9\n",
            "                   ..\n",
            "Barry Cook          1\n",
            "Jason London        1\n",
            "Jude Law            1\n",
            "Cillian Murphy      1\n",
            "Robert Donat        1\n",
            "Name: count, Length: 660, dtype: int64\n",
            "Valores únicos:  660\n",
            "-------------------------------------------\n",
            "Star2\n",
            "Emma Watson          7\n",
            "Matt Damon           5\n",
            "Kate Winslet         4\n",
            "Chris Evans          4\n",
            "Ed Harris            4\n",
            "                    ..\n",
            "Ulrich Mühe          1\n",
            "Kiefer Sutherland    1\n",
            "Kevin Bacon          1\n",
            "Jeremy Irons         1\n",
            "Madeleine Carroll    1\n",
            "Name: count, Length: 841, dtype: int64\n",
            "Valores únicos:  841\n",
            "-------------------------------------------\n",
            "Star3\n",
            "Rupert Grint         5\n",
            "Jennifer Connelly    4\n",
            "Rachel McAdams       4\n",
            "John Goodman         4\n",
            "Samuel L. Jackson    4\n",
            "                    ..\n",
            "Fionnula Flanagan    1\n",
            "Franka Potente       1\n",
            "Samantha Morton      1\n",
            "Janusz Gajos         1\n",
            "Lucie Mannheim       1\n",
            "Name: count, Length: 891, dtype: int64\n",
            "Valores únicos:  891\n",
            "-------------------------------------------\n",
            "Star4\n",
            "Michael Caine        4\n",
            "Catherine Keener     3\n",
            "Mark Ruffalo         3\n",
            "Julianne Moore       2\n",
            "Bill McKinney        2\n",
            "                    ..\n",
            "Ben Stiller          1\n",
            "Ana López Mercado    1\n",
            "Maggie Smith         1\n",
            "Alakina Mann         1\n",
            "Godfrey Tearle       1\n",
            "Name: count, Length: 939, dtype: int64\n",
            "Valores únicos:  939\n"
          ]
        }
      ]
    },
    {
      "cell_type": "markdown",
      "source": [
        "Finalmente analizaremos los años de lanzamiento."
      ],
      "metadata": {
        "id": "QFIIfwYbQ4c9"
      }
    },
    {
      "cell_type": "code",
      "source": [
        "import seaborn as sns\n",
        "\n",
        "# Estadísticas descriptivas básicas\n",
        "df_year_as_date = pd.to_datetime(df['Released_Year'], errors='coerce')\n",
        "year_stats = df_year_as_date.describe()\n",
        "\n",
        "print(\"Estadísticas descriptivas de los años de lanzamiento:\\n\", year_stats)"
      ],
      "metadata": {
        "id": "nbSnEx5fxs6b",
        "colab": {
          "base_uri": "https://localhost:8080/"
        },
        "collapsed": true,
        "outputId": "64ec49d2-84d8-4b65-8131-d0947c2837c8"
      },
      "execution_count": 15,
      "outputs": [
        {
          "output_type": "stream",
          "name": "stdout",
          "text": [
            "Estadísticas descriptivas de los años de lanzamiento:\n",
            " count                              999\n",
            "mean     1991-03-21 11:00:10.810810880\n",
            "min                1920-01-01 00:00:00\n",
            "25%                1976-01-01 00:00:00\n",
            "50%                1999-01-01 00:00:00\n",
            "75%                2009-01-01 00:00:00\n",
            "max                2020-01-01 00:00:00\n",
            "Name: Released_Year, dtype: object\n"
          ]
        }
      ]
    },
    {
      "cell_type": "code",
      "source": [
        "\n",
        "# Histograma de los años de lanzamiento\n",
        "plt.figure(figsize=(10, 6))\n",
        "sns.histplot(df_year_as_date, bins=30, kde=True, color='skyblue')\n",
        "plt.title('Distribución de los años de lanzamiento')\n",
        "plt.xlabel('Año de lanzamiento')\n",
        "plt.ylabel('Frecuencia')\n",
        "plt.grid(True)\n",
        "plt.show()\n",
        "\n"
      ],
      "metadata": {
        "id": "zeM9N4PziTGd",
        "colab": {
          "base_uri": "https://localhost:8080/",
          "height": 564
        },
        "outputId": "85e15626-1a51-46e2-d668-f065853f22ec"
      },
      "execution_count": 16,
      "outputs": [
        {
          "output_type": "display_data",
          "data": {
            "text/plain": [
              "<Figure size 1000x600 with 1 Axes>"
            ],
            "image/png": "[encoded data removed]"
          },
          "metadata": {}
        }
      ]
    },
    {
      "cell_type": "code",
      "source": [
        "# Diagrama de caja (boxplot)\n",
        "plt.figure(figsize=(8, 6))\n",
        "sns.boxplot(x=df_year_as_date, color='lightblue')\n",
        "plt.title('Diagrama de caja de los años de lanzamiento')\n",
        "plt.xlabel('Año de lanzamiento')\n",
        "plt.grid(True)\n",
        "plt.show()"
      ],
      "metadata": {
        "id": "cGyvN4Ypv2vl",
        "colab": {
          "base_uri": "https://localhost:8080/",
          "height": 564
        },
        "outputId": "b42f0513-2507-4f3a-937a-f20b4cbcd0b8"
      },
      "execution_count": 17,
      "outputs": [
        {
          "output_type": "display_data",
          "data": {
            "text/plain": [
              "<Figure size 800x600 with 1 Axes>"
            ],
            "image/png": "[encoded data removed]"
          },
          "metadata": {}
        }
      ]
    },
    {
      "cell_type": "markdown",
      "source": [
        "Observamos que la mayoría de películas (el 50%) se encuentra en el rango de 1976 a 2009. Vemos algunos outliers en el caso de películas muy antiguas. Y no vemos datos por encima del 2020 lo que indica que este set de datos no está actualizado después de esta fecha."
      ],
      "metadata": {
        "id": "mKr0DbGISaFK"
      }
    },
    {
      "cell_type": "code",
      "source": [
        "\n",
        "# Contar la cantidad de enlaces, se confirma que son enlaces únicos y por lo\n",
        "# son como identificadores, no aportan información adicional\n",
        "print(\"Cantidad de enlaces únicos:\", df['Poster_Link'].nunique() )\n"
      ],
      "metadata": {
        "id": "1uugbliMidq8",
        "colab": {
          "base_uri": "https://localhost:8080/"
        },
        "outputId": "39494978-1059-4188-b78a-bb109a274987"
      },
      "execution_count": 18,
      "outputs": [
        {
          "output_type": "stream",
          "name": "stdout",
          "text": [
            "Cantidad de enlaces únicos: 1000\n"
          ]
        }
      ]
    },
    {
      "cell_type": "markdown",
      "source": [
        "## 2da parte preprocesamiento"
      ],
      "metadata": {
        "id": "7LQNaf6W7xwl"
      }
    },
    {
      "cell_type": "code",
      "source": [
        "from sklearn.impute import SimpleImputer\n",
        "\n",
        "\n",
        "# Imputación de datos faltantes utilizando el promedio de las calificaciones\n",
        "imputer = SimpleImputer(strategy='mean')\n",
        "df['Meta_score'] = imputer.fit_transform(df['Meta_score'].values.reshape(-1, 1))\n",
        "\n",
        "# Imputación de datos faltantes utilizando la media de los ingresos recibidos,\n",
        "# pues la distribución de Gross tiene un sesgo fuerte a la derecha.\n",
        "imputer = SimpleImputer(strategy='median')\n",
        "df['Gross'] = imputer.fit_transform(df['Gross'].values.reshape(-1, 1))\n"
      ],
      "metadata": {
        "id": "rQIn1WYtw7GL"
      },
      "execution_count": 23,
      "outputs": []
    },
    {
      "cell_type": "code",
      "source": [
        "# observamos que ahora solo tenemos datos faltantes en certificate,\n",
        "# como es probable que no utilizemos esta columna por el momento lo dejaremos así\n",
        "df.isna().mean()*100"
      ],
      "metadata": {
        "colab": {
          "base_uri": "https://localhost:8080/"
        },
        "id": "yh_MLut-HP4H",
        "outputId": "24157d41-d3f1-4d53-da2a-4f454dc52546"
      },
      "execution_count": 24,
      "outputs": [
        {
          "output_type": "execute_result",
          "data": {
            "text/plain": [
              "Poster_Link       0.0\n",
              "Series_Title      0.0\n",
              "Released_Year     0.0\n",
              "Certificate      10.1\n",
              "Runtime           0.0\n",
              "Genre             0.0\n",
              "IMDB_Rating       0.0\n",
              "Overview          0.0\n",
              "Meta_score        0.0\n",
              "Director          0.0\n",
              "Star1             0.0\n",
              "Star2             0.0\n",
              "Star3             0.0\n",
              "Star4             0.0\n",
              "No_of_Votes       0.0\n",
              "Gross             0.0\n",
              "dtype: float64"
            ]
          },
          "metadata": {},
          "execution_count": 24
        }
      ]
    },
    {
      "cell_type": "code",
      "source": [
        "\n",
        "# Codificación de variables categóricas\n",
        "\n",
        "'''\n",
        "Podemos observar que tenemos 202 combinaciones diferentes de géneros.\n",
        "Por tal razón se ha decidido utilizar binary encoding en lugar de onehot para este caso.\n",
        "\n",
        "Para director y las estrellas tenemos más de 100 valores únicos distintos,\n",
        "por ello también utilizaremos binary encoding para codificarlas.\n",
        "\n",
        "Para año utilizaremos ordinal encoding, pues nos permite conservar la relación\n",
        "ascendente del tiempo.\n",
        "\n",
        "Por otro lado para Certificado tenemos 16 variantes, por lo tanto utilizaremos\n",
        "onehot encoding.\n",
        "\n",
        "'''\n",
        "# !pip install category_encoders\n",
        "from sklearn.preprocessing import OneHotEncoder, OrdinalEncoder\n",
        "from category_encoders.binary import BinaryEncoder\n",
        "\n",
        "genre_encoder = BinaryEncoder()\n",
        "release_year_encoder = BinaryEncoder()\n",
        "director_encoder = BinaryEncoder()\n",
        "star1_encoder = BinaryEncoder()\n",
        "star2_encoder = BinaryEncoder()\n",
        "star3_encoder = BinaryEncoder()\n",
        "star4_encoder = BinaryEncoder()\n",
        "certificate_encoder = OneHotEncoder(sparse=False, drop='first')\n",
        "\n",
        "encoded_genre = genre_encoder.fit_transform(df['Genre'])\n",
        "encoded_director = director_encoder.fit_transform(df['Director'])\n",
        "encoded_star1 = star1_encoder.fit_transform(df['Star1'])\n",
        "encoded_star2 = star2_encoder.fit_transform(df['Star2'])\n",
        "encoded_star3 = star3_encoder.fit_transform(df['Star3'])\n",
        "encoded_star4 = star4_encoder.fit_transform(df['Star4'])\n",
        "\n",
        "encoded_release_year = release_year_encoder.fit_transform(df[['Released_Year']])\n",
        "encoded_release_year_column_names = release_year_encoder.get_feature_names_out(['Released_Year'])\n",
        "encoded_release_year = pd.DataFrame(encoded_release_year, columns=encoded_release_year_column_names, index=df.index)\n",
        "\n",
        "encoded_certificate = certificate_encoder.fit_transform(df[['Certificate']])\n",
        "encoded_certificate_column_names = certificate_encoder.get_feature_names_out(['Certificate'])\n",
        "encoded_certificate = pd.DataFrame(encoded_certificate, columns=encoded_certificate_column_names, index=df.index)"
      ],
      "metadata": {
        "id": "5CBYt5udw66T",
        "colab": {
          "base_uri": "https://localhost:8080/"
        },
        "outputId": "28e1680f-70fc-4fc0-e161-fa75221f5d2b"
      },
      "execution_count": 49,
      "outputs": [
        {
          "output_type": "stream",
          "name": "stderr",
          "text": [
            "/usr/local/lib/python3.10/dist-packages/sklearn/preprocessing/_encoders.py:868: FutureWarning: `sparse` was renamed to `sparse_output` in version 1.2 and will be removed in 1.4. `sparse_output` is ignored unless you leave `sparse` to its default value.\n",
            "  warnings.warn(\n"
          ]
        }
      ]
    },
    {
      "cell_type": "code",
      "source": [
        "\n",
        "'''\n",
        "Finalmente juntamos en un solo dataframe los datos preprocesados.\n",
        "Es importante notar lo siguiente:\n",
        "\n",
        "- Poster_Link: se puede utilizar en algorimos de procesamiento de imagen\n",
        "- Series_Title: es un identificador, lo mantenemos como es. Puede ser util para técnicas de NLP\n",
        "- Runtime: es el tiempo en minutos de duración\n",
        "- IMDB_Rating: es la calificación de la película en el sitio IMDB\n",
        "- Overview: se puede utilizar para ténicas de NLP\n",
        "- Meta_score: es flotante y ya puede utilizarse en algún algoritmo\n",
        "- No_of_Votes: es entero y ya está listo para usarse\n",
        "- Gross: es flotante y está listo para usarse.\n",
        "- Genre\n",
        "'''\n",
        "\n",
        "final_df = df.copy()\n",
        "\n",
        "# Nótese que conservaremos las columnas originales pues para técnicas de NLP seguiremos utilizandolas\n",
        "final_df = pd.concat([final_df, encoded_genre, encoded_certificate, encoded_director, encoded_star1, encoded_star2, encoded_star3, encoded_star4, encoded_release_year], axis=1)\n",
        "\n"
      ],
      "metadata": {
        "id": "LfBhmuyFvh8C"
      },
      "execution_count": 56,
      "outputs": []
    },
    {
      "cell_type": "code",
      "source": [
        "final_df.info()"
      ],
      "metadata": {
        "colab": {
          "base_uri": "https://localhost:8080/"
        },
        "id": "0deqVM-wwOHk",
        "outputId": "538c553b-c034-455f-cbf1-672a56621698"
      },
      "execution_count": 57,
      "outputs": [
        {
          "output_type": "stream",
          "name": "stdout",
          "text": [
            "<class 'pandas.core.frame.DataFrame'>\n",
            "RangeIndex: 1000 entries, 0 to 999\n",
            "Data columns (total 97 columns):\n",
            " #   Column                Non-Null Count  Dtype  \n",
            "---  ------                --------------  -----  \n",
            " 0   Poster_Link           1000 non-null   object \n",
            " 1   Series_Title          1000 non-null   object \n",
            " 2   Released_Year         1000 non-null   object \n",
            " 3   Certificate           899 non-null    object \n",
            " 4   Runtime               1000 non-null   int64  \n",
            " 5   Genre                 1000 non-null   object \n",
            " 6   IMDB_Rating           1000 non-null   float64\n",
            " 7   Overview              1000 non-null   object \n",
            " 8   Meta_score            1000 non-null   float64\n",
            " 9   Director              1000 non-null   object \n",
            " 10  Star1                 1000 non-null   object \n",
            " 11  Star2                 1000 non-null   object \n",
            " 12  Star3                 1000 non-null   object \n",
            " 13  Star4                 1000 non-null   object \n",
            " 14  No_of_Votes           1000 non-null   int64  \n",
            " 15  Gross                 1000 non-null   float64\n",
            " 16  Genre_0               1000 non-null   int64  \n",
            " 17  Genre_1               1000 non-null   int64  \n",
            " 18  Genre_2               1000 non-null   int64  \n",
            " 19  Genre_3               1000 non-null   int64  \n",
            " 20  Genre_4               1000 non-null   int64  \n",
            " 21  Genre_5               1000 non-null   int64  \n",
            " 22  Genre_6               1000 non-null   int64  \n",
            " 23  Genre_7               1000 non-null   int64  \n",
            " 24  Certificate_A         1000 non-null   float64\n",
            " 25  Certificate_Approved  1000 non-null   float64\n",
            " 26  Certificate_G         1000 non-null   float64\n",
            " 27  Certificate_GP        1000 non-null   float64\n",
            " 28  Certificate_PG        1000 non-null   float64\n",
            " 29  Certificate_PG-13     1000 non-null   float64\n",
            " 30  Certificate_Passed    1000 non-null   float64\n",
            " 31  Certificate_R         1000 non-null   float64\n",
            " 32  Certificate_TV-14     1000 non-null   float64\n",
            " 33  Certificate_TV-MA     1000 non-null   float64\n",
            " 34  Certificate_TV-PG     1000 non-null   float64\n",
            " 35  Certificate_U         1000 non-null   float64\n",
            " 36  Certificate_U/A       1000 non-null   float64\n",
            " 37  Certificate_UA        1000 non-null   float64\n",
            " 38  Certificate_Unrated   1000 non-null   float64\n",
            " 39  Certificate_nan       1000 non-null   float64\n",
            " 40  Director_0            1000 non-null   int64  \n",
            " 41  Director_1            1000 non-null   int64  \n",
            " 42  Director_2            1000 non-null   int64  \n",
            " 43  Director_3            1000 non-null   int64  \n",
            " 44  Director_4            1000 non-null   int64  \n",
            " 45  Director_5            1000 non-null   int64  \n",
            " 46  Director_6            1000 non-null   int64  \n",
            " 47  Director_7            1000 non-null   int64  \n",
            " 48  Director_8            1000 non-null   int64  \n",
            " 49  Director_9            1000 non-null   int64  \n",
            " 50  Star1_0               1000 non-null   int64  \n",
            " 51  Star1_1               1000 non-null   int64  \n",
            " 52  Star1_2               1000 non-null   int64  \n",
            " 53  Star1_3               1000 non-null   int64  \n",
            " 54  Star1_4               1000 non-null   int64  \n",
            " 55  Star1_5               1000 non-null   int64  \n",
            " 56  Star1_6               1000 non-null   int64  \n",
            " 57  Star1_7               1000 non-null   int64  \n",
            " 58  Star1_8               1000 non-null   int64  \n",
            " 59  Star1_9               1000 non-null   int64  \n",
            " 60  Star2_0               1000 non-null   int64  \n",
            " 61  Star2_1               1000 non-null   int64  \n",
            " 62  Star2_2               1000 non-null   int64  \n",
            " 63  Star2_3               1000 non-null   int64  \n",
            " 64  Star2_4               1000 non-null   int64  \n",
            " 65  Star2_5               1000 non-null   int64  \n",
            " 66  Star2_6               1000 non-null   int64  \n",
            " 67  Star2_7               1000 non-null   int64  \n",
            " 68  Star2_8               1000 non-null   int64  \n",
            " 69  Star2_9               1000 non-null   int64  \n",
            " 70  Star3_0               1000 non-null   int64  \n",
            " 71  Star3_1               1000 non-null   int64  \n",
            " 72  Star3_2               1000 non-null   int64  \n",
            " 73  Star3_3               1000 non-null   int64  \n",
            " 74  Star3_4               1000 non-null   int64  \n",
            " 75  Star3_5               1000 non-null   int64  \n",
            " 76  Star3_6               1000 non-null   int64  \n",
            " 77  Star3_7               1000 non-null   int64  \n",
            " 78  Star3_8               1000 non-null   int64  \n",
            " 79  Star3_9               1000 non-null   int64  \n",
            " 80  Star4_0               1000 non-null   int64  \n",
            " 81  Star4_1               1000 non-null   int64  \n",
            " 82  Star4_2               1000 non-null   int64  \n",
            " 83  Star4_3               1000 non-null   int64  \n",
            " 84  Star4_4               1000 non-null   int64  \n",
            " 85  Star4_5               1000 non-null   int64  \n",
            " 86  Star4_6               1000 non-null   int64  \n",
            " 87  Star4_7               1000 non-null   int64  \n",
            " 88  Star4_8               1000 non-null   int64  \n",
            " 89  Star4_9               1000 non-null   int64  \n",
            " 90  Released_Year_0       1000 non-null   int64  \n",
            " 91  Released_Year_1       1000 non-null   int64  \n",
            " 92  Released_Year_2       1000 non-null   int64  \n",
            " 93  Released_Year_3       1000 non-null   int64  \n",
            " 94  Released_Year_4       1000 non-null   int64  \n",
            " 95  Released_Year_5       1000 non-null   int64  \n",
            " 96  Released_Year_6       1000 non-null   int64  \n",
            "dtypes: float64(19), int64(67), object(11)\n",
            "memory usage: 757.9+ KB\n"
          ]
        }
      ]
    },
    {
      "cell_type": "markdown",
      "source": [
        "## Sistema de recomendación basado en contenido. Utilizando técnicas de NLP"
      ],
      "metadata": {
        "id": "gwNFzEKJF3Ll"
      }
    },
    {
      "cell_type": "code",
      "source": [
        "# Content-based recommendation system\n",
        "\n",
        "'''\n",
        "Para este ejercicio haremos uso de técnicas de NLP donde podemos utilizar el texto plano como tal.\n",
        "'''\n",
        "\n",
        "columns = ['Series_Title', 'Genre', 'Director', 'Star1', 'Star2', 'Star3', 'Star4']\n",
        "content = final_df[columns].copy()\n",
        "\n",
        "# concatenamos los textos, convertimos todo a minúsculas\n",
        "content['concatenated'] = content['Series_Title'] + \" \" + content['Genre'] + \" \" + content['Director'] + \" \" + content['Star1'] + \" \" + content['Star2'] + \" \" + content['Star3'] + \" \" + content['Star4']\n"
      ],
      "metadata": {
        "id": "9ehCRVL7_9a7"
      },
      "execution_count": 63,
      "outputs": []
    },
    {
      "cell_type": "code",
      "source": [
        "# removemos stop words de ingles (palabras que no aportan contenido tan valioso o que son muy comunes)\n",
        "import nltk\n",
        "from nltk.corpus import stopwords\n",
        "nltk.download('stopwords')\n",
        "\n",
        "\n",
        "stopwords = stopwords.words('english')\n",
        "\n",
        "def generate_sentences(doc):\n",
        "  '''\n",
        "  El preprocesamiento a utilizar consiste en conservar únicamente caracteres alfabéticos, eliminando\n",
        "  signos de puntuación, caracteres especiales y números.\n",
        "\n",
        "  Solamente consideremos palabras (tokens) con longitud mayor a un caracter.\n",
        "\n",
        "  Convertiremos todo a minúsculas.\n",
        "\n",
        "  Eliminaremos del texto los stopwords del diccionario de stop words de la librería NLTK en inglés.\n",
        "\n",
        "  '''\n",
        "  words = re.sub(r'[^a-zA-ZáéíóúüñÁÉÍÓÚÜÑ]', ' ', doc)\n",
        "  words = re.sub(r'\\s{2,}', ' ', words.strip())\n",
        "  words = words.lower().split()\n",
        "  tokens = [ w for w in words if w not in stopwords]\n",
        "  return \" \".join(tokens)\n",
        "\n",
        "\n",
        "sentences = [generate_sentences(x) for x in content['concatenated']]"
      ],
      "metadata": {
        "colab": {
          "base_uri": "https://localhost:8080/"
        },
        "id": "JWQ--6zGDxtZ",
        "outputId": "161a9b19-a33a-4f0b-a8e1-e4e32ecaecea"
      },
      "execution_count": 92,
      "outputs": [
        {
          "output_type": "stream",
          "name": "stderr",
          "text": [
            "[nltk_data] Downloading package stopwords to /root/nltk_data...\n",
            "[nltk_data]   Package stopwords is already up-to-date!\n"
          ]
        }
      ]
    },
    {
      "cell_type": "code",
      "source": [
        "print(content['concatenated'].iloc[0:2])\n",
        "sentences[0:2] # se puede observar todo el preprocesamiento aplicado en acción"
      ],
      "metadata": {
        "colab": {
          "base_uri": "https://localhost:8080/"
        },
        "id": "r8fRrqweFveM",
        "outputId": "95b96791-935e-4060-db1c-854e977d8ac0"
      },
      "execution_count": 94,
      "outputs": [
        {
          "output_type": "stream",
          "name": "stdout",
          "text": [
            "0    The Shawshank Redemption Drama Frank Darabont ...\n",
            "1    The Godfather Crime, Drama Francis Ford Coppol...\n",
            "Name: concatenated, dtype: object\n"
          ]
        },
        {
          "output_type": "execute_result",
          "data": {
            "text/plain": [
              "['shawshank redemption drama frank darabont tim robbins morgan freeman bob gunton william sadler',\n",
              " 'godfather crime drama francis ford coppola marlon brando al pacino james caan diane keaton']"
            ]
          },
          "metadata": {},
          "execution_count": 94
        }
      ]
    },
    {
      "cell_type": "code",
      "source": [
        "'''\n",
        "Utilizaremos un vectorizador de tipo TF-IDF, que nos permite convertir cada palabra de un enunciado en una lista\n",
        "de números. La forma de convertirlos consiste en una multiplicación de dos factores:\n",
        "- La frecuencia de la palabra en todos los documentos.\n",
        "- La relación de en cuántas oraciones aparece una palabra vs cuantas oraciones tenemos (1000)\n",
        "'''\n",
        "\n",
        "from sklearn.feature_extraction.text import TfidfVectorizer\n",
        "\n",
        "tfidfvectorizer = TfidfVectorizer()\n",
        "tfidf_matrix = tfidfvectorizer.fit_transform(sentences)\n"
      ],
      "metadata": {
        "id": "Krk1MRBrHV0i"
      },
      "execution_count": 102,
      "outputs": []
    },
    {
      "cell_type": "code",
      "source": [
        "tfidf_matrix.shape\n",
        "# del tamaño de la matriz podemos observar que tenemos 1000 oraciones\n",
        "# y que nuestro vocabulario es de 5714 palabras distintas (tokens), entonces\n",
        "# para cada oración tenemos un vector numérico de tamaño 5714 que representa\n",
        "# la importancia de cada palabra dada en la oración."
      ],
      "metadata": {
        "colab": {
          "base_uri": "https://localhost:8080/"
        },
        "id": "K3PaW-QTOUYN",
        "outputId": "17e040c9-6fd1-4ed3-8cad-433de8946130"
      },
      "execution_count": 105,
      "outputs": [
        {
          "output_type": "execute_result",
          "data": {
            "text/plain": [
              "(1000, 5714)"
            ]
          },
          "metadata": {},
          "execution_count": 105
        }
      ]
    },
    {
      "cell_type": "code",
      "source": [
        "# dado que tenemos un vector numérico podemos utilizar la similitud de coseno\n",
        "# para determinar oraciones similares\n",
        "\n",
        "from sklearn.metrics.pairwise import linear_kernel\n",
        "similarity_mtrx = linear_kernel(tfidf_matrix, tfidf_matrix)"
      ],
      "metadata": {
        "id": "CHhNw8dePFnt"
      },
      "execution_count": 120,
      "outputs": []
    },
    {
      "cell_type": "code",
      "source": [
        "# Tomemos como ejemplo una película dada en el dataset, por ejemplo: 'Star Wars'\n",
        "movies_index = pd.Series(content.index, index=content['Series_Title']).drop_duplicates()\n",
        "idx = movies_index['Star Wars']\n",
        "idx # su índice es 29 (oración 29)"
      ],
      "metadata": {
        "colab": {
          "base_uri": "https://localhost:8080/"
        },
        "id": "5f2vkjbTP0QN",
        "outputId": "033a252d-ba1e-41d2-a662-ce845a3b3815"
      },
      "execution_count": 129,
      "outputs": [
        {
          "output_type": "execute_result",
          "data": {
            "text/plain": [
              "29"
            ]
          },
          "metadata": {},
          "execution_count": 129
        }
      ]
    },
    {
      "cell_type": "code",
      "source": [
        "# obtenemos el vector de similitudes de esa pelicula con todas las otras\n",
        "similarity_scores = list(enumerate(similarity_mtrx[idx]))\n",
        "# ordenamos las pel[iculas con base en los scores de similaidad\n",
        "similarity_scores = sorted(similarity_scores, key=lambda x: x[1], reverse=True)\n",
        "# podemos observar las 10 películas más similares, omitimos la primera pues es Star Wars\n",
        "similarity_scores = similarity_scores[1:11]\n",
        "title_idxs = [i[0] for i in similarity_scores]\n",
        "content['Series_Title'].iloc[title_idxs]\n"
      ],
      "metadata": {
        "colab": {
          "base_uri": "https://localhost:8080/"
        },
        "id": "zTNoChiYQUOQ",
        "outputId": "9d12ed36-2a41-4581-cbe6-33ddf2b3d5ba"
      },
      "execution_count": 130,
      "outputs": [
        {
          "output_type": "execute_result",
          "data": {
            "text/plain": [
              "109        Star Wars: Episode VI - Return of the Jedi\n",
              "16     Star Wars: Episode V - The Empire Strikes Back\n",
              "116                                Lawrence of Arabia\n",
              "304                      The Bridge on the River Kwai\n",
              "477        Star Wars: Episode VII - The Force Awakens\n",
              "869                                   The Ladykillers\n",
              "975                           When Harry Met Sally...\n",
              "449                          Kind Hearts and Coronets\n",
              "72                            Raiders of the Lost Ark\n",
              "663                                      The Fugitive\n",
              "Name: Series_Title, dtype: object"
            ]
          },
          "metadata": {},
          "execution_count": 130
        }
      ]
    },
    {
      "cell_type": "code",
      "source": [],
      "metadata": {
        "id": "LDYLpMKzRYm-"
      },
      "execution_count": null,
      "outputs": []
    }
  ]
}